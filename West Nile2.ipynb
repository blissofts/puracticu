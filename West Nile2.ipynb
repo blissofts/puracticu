{
 "cells": [
  {
   "cell_type": "code",
   "execution_count": 195,
   "metadata": {},
   "outputs": [],
   "source": [
    "%matplotlib notebook\n",
    "import pandas as pd\n",
    "import numpy as np\n",
    "import matplotlib.pyplot as plt\n",
    "from sklearn.ensemble import RandomForestRegressor\n",
    "import math\n",
    "import numpy as np\n",
    "import pickle\n",
    "\n",
    "import xgboost as xgb\n",
    "from sklearn import cross_validation, metrics\n",
    "from sklearn.grid_search import GridSearchCV\n",
    "from sklearn.metrics import roc_auc_score\n",
    "from xgboost.sklearn import XGBClassifier\n",
    "from sklearn.grid_search import GridSearchCV "
   ]
  },
  {
   "cell_type": "code",
   "execution_count": 88,
   "metadata": {
    "collapsed": true
   },
   "outputs": [],
   "source": [
    "weather = pd.read_csv(\"West Nile/weather.csv\")"
   ]
  },
  {
   "cell_type": "code",
   "execution_count": 89,
   "metadata": {},
   "outputs": [
    {
     "name": "stdout",
     "output_type": "stream",
     "text": [
      "    Station        Date  Tmax  Tmin Tavg Depart  DewPoint WetBulb Heat Cool  \\\n",
      "0         1  2007-05-01    83    50   67     14        51      56    0    2   \n",
      "1         2  2007-05-01    84    52   68      M        51      57    0    3   \n",
      "2         1  2007-05-02    59    42   51     -3        42      47   14    0   \n",
      "3         2  2007-05-02    60    43   52      M        42      47   13    0   \n",
      "4         1  2007-05-03    66    46   56      2        40      48    9    0   \n",
      "5         2  2007-05-03    67    48   58      M        40      50    7    0   \n",
      "6         1  2007-05-04    66    49   58      4        41      50    7    0   \n",
      "7         2  2007-05-04    78    51    M      M        42      50    M    M   \n",
      "8         1  2007-05-05    66    53   60      5        38      49    5    0   \n",
      "9         2  2007-05-05    66    54   60      M        39      50    5    0   \n",
      "10        1  2007-05-06    68    49   59      4        30      46    6    0   \n",
      "11        2  2007-05-06    68    52   60      M        30      46    5    0   \n",
      "12        1  2007-05-07    83    47   65     10        41      54    0    0   \n",
      "13        2  2007-05-07    84    50   67      M        39      53    0    2   \n",
      "14        1  2007-05-08    82    54   68     12        58      62    0    3   \n",
      "15        2  2007-05-08    80    60   70      M        57      63    0    5   \n",
      "16        1  2007-05-09    77    61   69     13        59      63    0    4   \n",
      "17        2  2007-05-09    76    63   70      M        60      63    0    5   \n",
      "18        1  2007-05-10    84    56   70     14        52      60    0    5   \n",
      "19        2  2007-05-10    83    59   71      M        52      61    0    6   \n",
      "\n",
      "      ...    CodeSum Depth Water1 SnowFall PrecipTotal StnPressure SeaLevel  \\\n",
      "0     ...                0      M      0.0        0.00       29.10    29.82   \n",
      "1     ...                M      M        M        0.00       29.18    29.82   \n",
      "2     ...         BR     0      M      0.0        0.00       29.38    30.09   \n",
      "3     ...      BR HZ     M      M        M        0.00       29.44    30.08   \n",
      "4     ...                0      M      0.0        0.00       29.39    30.12   \n",
      "5     ...         HZ     M      M        M        0.00       29.46    30.12   \n",
      "6     ...         RA     0      M      0.0           T       29.31    30.05   \n",
      "7     ...                M      M        M        0.00       29.36    30.04   \n",
      "8     ...                0      M      0.0           T       29.40    30.10   \n",
      "9     ...                M      M        M           T       29.46    30.09   \n",
      "10    ...                0      M      0.0        0.00       29.57    30.29   \n",
      "11    ...                M      M        M        0.00       29.62    30.28   \n",
      "12    ...         RA     0      M      0.0           T       29.38    30.12   \n",
      "13    ...                M      M        M        0.00       29.44    30.12   \n",
      "14    ...         BR     0      M      0.0        0.00       29.29    30.03   \n",
      "15    ...         HZ     M      M        M           T       29.36    30.02   \n",
      "16    ...      BR HZ     0      M      0.0        0.13       29.21    29.94   \n",
      "17    ...      BR HZ     M      M        M        0.02       29.28    29.93   \n",
      "18    ...         BR     0      M      0.0        0.00       29.20    29.92   \n",
      "19    ...      BR HZ     M      M        M        0.00       29.26    29.91   \n",
      "\n",
      "   ResultSpeed ResultDir  AvgSpeed  \n",
      "0          1.7        27       9.2  \n",
      "1          2.7        25       9.6  \n",
      "2         13.0         4      13.4  \n",
      "3         13.3         2      13.4  \n",
      "4         11.7         7      11.9  \n",
      "5         12.9         6      13.2  \n",
      "6         10.4         8      10.8  \n",
      "7         10.1         7      10.4  \n",
      "8         11.7         7      12.0  \n",
      "9         11.2         7      11.5  \n",
      "10        14.4        11      15.0  \n",
      "11        13.8        10      14.5  \n",
      "12         8.6        18      10.5  \n",
      "13         8.5        17       9.9  \n",
      "14         2.7        11       5.8  \n",
      "15         2.5         8       5.4  \n",
      "16         3.9         9       6.2  \n",
      "17         3.9         7       5.9  \n",
      "18         0.7        17       4.1  \n",
      "19         2.0         9       3.9  \n",
      "\n",
      "[20 rows x 22 columns]\n"
     ]
    }
   ],
   "source": [
    "print(weather.head(20))"
   ]
  },
  {
   "cell_type": "code",
   "execution_count": 90,
   "metadata": {
    "collapsed": true
   },
   "outputs": [],
   "source": [
    "#Change non-number strings into number strings in PrecipTotal\n",
    "\n",
    "mask = ((weather['PrecipTotal'] == '  T') | (weather['PrecipTotal'] == 'M'))\n",
    "weather.loc[mask,'PrecipTotal'] = np.nan"
   ]
  },
  {
   "cell_type": "code",
   "execution_count": 91,
   "metadata": {},
   "outputs": [
    {
     "name": "stdout",
     "output_type": "stream",
     "text": [
      "   Station        Date  Tmax  Tmin Tavg Depart  DewPoint WetBulb Heat Cool  \\\n",
      "0        1  2007-05-01    83    50   67     14        51      56    0    2   \n",
      "1        2  2007-05-01    84    52   68      M        51      57    0    3   \n",
      "2        1  2007-05-02    59    42   51     -3        42      47   14    0   \n",
      "3        2  2007-05-02    60    43   52      M        42      47   13    0   \n",
      "4        1  2007-05-03    66    46   56      2        40      48    9    0   \n",
      "5        2  2007-05-03    67    48   58      M        40      50    7    0   \n",
      "6        1  2007-05-04    66    49   58      4        41      50    7    0   \n",
      "7        2  2007-05-04    78    51    M      M        42      50    M    M   \n",
      "8        1  2007-05-05    66    53   60      5        38      49    5    0   \n",
      "9        2  2007-05-05    66    54   60      M        39      50    5    0   \n",
      "\n",
      "     ...    CodeSum Depth Water1 SnowFall PrecipTotal StnPressure SeaLevel  \\\n",
      "0    ...                0      M      0.0        0.00       29.10    29.82   \n",
      "1    ...                M      M        M        0.00       29.18    29.82   \n",
      "2    ...         BR     0      M      0.0        0.00       29.38    30.09   \n",
      "3    ...      BR HZ     M      M        M        0.00       29.44    30.08   \n",
      "4    ...                0      M      0.0        0.00       29.39    30.12   \n",
      "5    ...         HZ     M      M        M        0.00       29.46    30.12   \n",
      "6    ...         RA     0      M      0.0         NaN       29.31    30.05   \n",
      "7    ...                M      M        M        0.00       29.36    30.04   \n",
      "8    ...                0      M      0.0         NaN       29.40    30.10   \n",
      "9    ...                M      M        M         NaN       29.46    30.09   \n",
      "\n",
      "  ResultSpeed ResultDir  AvgSpeed  \n",
      "0         1.7        27       9.2  \n",
      "1         2.7        25       9.6  \n",
      "2        13.0         4      13.4  \n",
      "3        13.3         2      13.4  \n",
      "4        11.7         7      11.9  \n",
      "5        12.9         6      13.2  \n",
      "6        10.4         8      10.8  \n",
      "7        10.1         7      10.4  \n",
      "8        11.7         7      12.0  \n",
      "9        11.2         7      11.5  \n",
      "\n",
      "[10 rows x 22 columns]\n"
     ]
    }
   ],
   "source": [
    "print(weather.head(10))"
   ]
  },
  {
   "cell_type": "code",
   "execution_count": 92,
   "metadata": {},
   "outputs": [
    {
     "name": "stdout",
     "output_type": "stream",
     "text": [
      "{nan, '0.62', '1.44', '0.77', '0.08', '1.25', '0.12', '0.42', '0.85', '2.06', '1.90', '0.58', '3.64', '0.74', '2.76', '0.41', '0.71', '0.06', '0.81', '1.18', '0.63', '2.20', '0.40', '0.07', '0.97', '1.02', '0.59', '0.82', '0.38', '0.23', '0.68', '0.61', '1.04', '0.21', '1.31', '0.22', '0.05', '0.52', '3.97', '0.17', '2.09', '1.82', '3.07', '0.48', '0.90', '1.75', '0.46', '1.46', '0.78', '3.15', '1.38', '0.25', '3.66', '0.87', '1.29', '3.31', '0.09', '1.01', '0.80', '2.90', '1.06', '1.28', '1.30', '0.44', '0.72', '1.33', '0.60', '0.36', '0.65', '1.16', '0.27', '0.20', '0.56', '0.69', '0.11', '0.04', '1.60', '1.05', '0.45', '0.84', '0.24', '0.34', '0.16', '1.03', '1.48', '0.55', '2.68', '3.17', '0.43', '1.19', '6.64', '1.11', '0.39', '0.32', '0.96', '1.21', '0.93', '1.96', '0.19', '0.10', '1.09', '0.00', '2.24', '0.31', '1.15', '4.73', '0.88', '1.88', '1.43', '0.66', '1.26', '0.18', '0.76', '0.79', '0.54', '0.14', '1.73', '1.58', '0.01', '0.89', '1.14', '1.35', '2.35', '0.02', '0.47', '2.03', '0.26', '1.23', '0.03', '0.13', '0.57', '0.37', '6.86', '0.92', '1.57', '0.67', '0.51', '2.79', '2.17', '0.86', '0.73', '1.49', '0.28', '0.29', '0.91', '0.35', '0.98', '0.49', '0.33', '0.50', '0.64', '0.15', '1.24', '1.07', '1.22', '1.12', '2.60', '0.83', '1.34', '1.55', '2.43', '0.75', '0.95', '0.30', '0.70', '0.53', '1.61'}\n"
     ]
    }
   ],
   "source": [
    "#check whether there's other non-float data in PrecipTotal\n",
    "\n",
    "uniqueRain = set(weather['PrecipTotal'])\n",
    "print(uniqueRain)"
   ]
  },
  {
   "cell_type": "code",
   "execution_count": 93,
   "metadata": {
    "collapsed": true
   },
   "outputs": [],
   "source": [
    "#convert all the data in PrecipTotal from string to float\n",
    "\n",
    "weather['PrecipTotal'] = weather['PrecipTotal'].astype(float)"
   ]
  },
  {
   "cell_type": "code",
   "execution_count": 94,
   "metadata": {},
   "outputs": [
    {
     "name": "stdout",
     "output_type": "stream",
     "text": [
      "   Station        Date  Tmax  Tmin Tavg Depart  DewPoint WetBulb Heat Cool  \\\n",
      "0        1  2007-05-01    83    50   67     14        51      56    0    2   \n",
      "1        2  2007-05-01    84    52   68      M        51      57    0    3   \n",
      "2        1  2007-05-02    59    42   51     -3        42      47   14    0   \n",
      "3        2  2007-05-02    60    43   52      M        42      47   13    0   \n",
      "4        1  2007-05-03    66    46   56      2        40      48    9    0   \n",
      "5        2  2007-05-03    67    48   58      M        40      50    7    0   \n",
      "6        1  2007-05-04    66    49   58      4        41      50    7    0   \n",
      "7        2  2007-05-04    78    51    M      M        42      50    M    M   \n",
      "8        1  2007-05-05    66    53   60      5        38      49    5    0   \n",
      "9        2  2007-05-05    66    54   60      M        39      50    5    0   \n",
      "\n",
      "     ...    CodeSum Depth Water1 SnowFall PrecipTotal StnPressure  SeaLevel  \\\n",
      "0    ...                0      M      0.0         0.0       29.10     29.82   \n",
      "1    ...                M      M        M         0.0       29.18     29.82   \n",
      "2    ...         BR     0      M      0.0         0.0       29.38     30.09   \n",
      "3    ...      BR HZ     M      M        M         0.0       29.44     30.08   \n",
      "4    ...                0      M      0.0         0.0       29.39     30.12   \n",
      "5    ...         HZ     M      M        M         0.0       29.46     30.12   \n",
      "6    ...         RA     0      M      0.0         NaN       29.31     30.05   \n",
      "7    ...                M      M        M         0.0       29.36     30.04   \n",
      "8    ...                0      M      0.0         NaN       29.40     30.10   \n",
      "9    ...                M      M        M         NaN       29.46     30.09   \n",
      "\n",
      "  ResultSpeed ResultDir  AvgSpeed  \n",
      "0         1.7        27       9.2  \n",
      "1         2.7        25       9.6  \n",
      "2        13.0         4      13.4  \n",
      "3        13.3         2      13.4  \n",
      "4        11.7         7      11.9  \n",
      "5        12.9         6      13.2  \n",
      "6        10.4         8      10.8  \n",
      "7        10.1         7      10.4  \n",
      "8        11.7         7      12.0  \n",
      "9        11.2         7      11.5  \n",
      "\n",
      "[10 rows x 22 columns]\n"
     ]
    }
   ],
   "source": [
    "print(weather.head(10))"
   ]
  },
  {
   "cell_type": "code",
   "execution_count": 95,
   "metadata": {},
   "outputs": [
    {
     "name": "stdout",
     "output_type": "stream",
     "text": [
      "{'  T', '0.0', 'M', '0.1'}\n"
     ]
    }
   ],
   "source": [
    "#check the possible values for SnowFall\n",
    "\n",
    "uniqueSnow = set(weather['SnowFall'])\n",
    "print(uniqueSnow)"
   ]
  },
  {
   "cell_type": "code",
   "execution_count": 96,
   "metadata": {},
   "outputs": [
    {
     "name": "stdout",
     "output_type": "stream",
     "text": [
      "{'M'}\n"
     ]
    }
   ],
   "source": [
    "#check the possible values for Water1\n",
    "\n",
    "uniqueWater = set(weather['Water1'])\n",
    "print(uniqueWater)"
   ]
  },
  {
   "cell_type": "code",
   "execution_count": 97,
   "metadata": {},
   "outputs": [
    {
     "name": "stdout",
     "output_type": "stream",
     "text": [
      "{'0', 'M'}\n"
     ]
    }
   ],
   "source": [
    "#check the possible values for Depth\n",
    "\n",
    "uniqueDepth = set(weather['Depth'])\n",
    "print(uniqueDepth)"
   ]
  },
  {
   "cell_type": "code",
   "execution_count": 98,
   "metadata": {
    "collapsed": true
   },
   "outputs": [],
   "source": [
    "#Dropping the unnecessary columns\n",
    "\n",
    "weather.drop(\"CodeSum\", axis = 1, inplace = True)\n",
    "weather.drop(\"Depth\", axis = 1, inplace = True)\n",
    "weather.drop(\"SnowFall\", axis = 1, inplace = True)\n",
    "weather.drop(\"Water1\", axis = 1, inplace = True)\n"
   ]
  },
  {
   "cell_type": "code",
   "execution_count": 99,
   "metadata": {},
   "outputs": [
    {
     "name": "stdout",
     "output_type": "stream",
     "text": [
      "   Station        Date  Tmax  Tmin Tavg Depart  DewPoint WetBulb Heat Cool  \\\n",
      "0        1  2007-05-01    83    50   67     14        51      56    0    2   \n",
      "1        2  2007-05-01    84    52   68      M        51      57    0    3   \n",
      "2        1  2007-05-02    59    42   51     -3        42      47   14    0   \n",
      "3        2  2007-05-02    60    43   52      M        42      47   13    0   \n",
      "4        1  2007-05-03    66    46   56      2        40      48    9    0   \n",
      "5        2  2007-05-03    67    48   58      M        40      50    7    0   \n",
      "6        1  2007-05-04    66    49   58      4        41      50    7    0   \n",
      "7        2  2007-05-04    78    51    M      M        42      50    M    M   \n",
      "8        1  2007-05-05    66    53   60      5        38      49    5    0   \n",
      "9        2  2007-05-05    66    54   60      M        39      50    5    0   \n",
      "\n",
      "  Sunrise Sunset  PrecipTotal StnPressure SeaLevel  ResultSpeed  ResultDir  \\\n",
      "0    0448   1849          0.0       29.10    29.82          1.7         27   \n",
      "1       -      -          0.0       29.18    29.82          2.7         25   \n",
      "2    0447   1850          0.0       29.38    30.09         13.0          4   \n",
      "3       -      -          0.0       29.44    30.08         13.3          2   \n",
      "4    0446   1851          0.0       29.39    30.12         11.7          7   \n",
      "5       -      -          0.0       29.46    30.12         12.9          6   \n",
      "6    0444   1852          NaN       29.31    30.05         10.4          8   \n",
      "7       -      -          0.0       29.36    30.04         10.1          7   \n",
      "8    0443   1853          NaN       29.40    30.10         11.7          7   \n",
      "9       -      -          NaN       29.46    30.09         11.2          7   \n",
      "\n",
      "  AvgSpeed  \n",
      "0      9.2  \n",
      "1      9.6  \n",
      "2     13.4  \n",
      "3     13.4  \n",
      "4     11.9  \n",
      "5     13.2  \n",
      "6     10.8  \n",
      "7     10.4  \n",
      "8     12.0  \n",
      "9     11.5  \n"
     ]
    }
   ],
   "source": [
    "print(weather.head(10))"
   ]
  },
  {
   "cell_type": "code",
   "execution_count": 100,
   "metadata": {},
   "outputs": [
    {
     "name": "stdout",
     "output_type": "stream",
     "text": [
      "{'0522', '0419', '0541', '0510', '0450', '0606', '0549', '0539', '0432', '0524', '0612', '0416', '0439', '0458', '0605', '0517', '0440', '0547', '0613', '0542', '0553', '0423', '0530', '0556', '0433', '0421', '0622', '0456', '0429', '0454', '0614', '0500', '0436', '0446', '0540', '0600', '0420', '0529', '0455', '0448', '0555', '0428', '0535', '0511', '0435', '0424', '0443', '0558', '0559', '0418', '0457', '0512', '0548', '0538', '0616', '0506', '0544', '0528', '0441', '0617', '0425', '0611', '0523', '0504', '0516', '0514', '0604', '0427', '0602', '0532', '0521', '0525', '0552', '0447', '0502', '0513', '0437', '0444', '0434', '0536', '0505', '0619', '0445', '0518', '0554', '0603', '0623', '0620', '0527', '0610', '0550', '0531', '-', '0508', '0417', '0520', '0426', '0557', '0438', '0452', '0509', '0501', '0607', '0503', '0545', '0453', '0451', '0449', '0526', '0543', '0537', '0442', '0533', '0422', '0459', '0430', '0431', '0618', '0546', '0515', '0608', '0519'}\n"
     ]
    }
   ],
   "source": [
    "uniqueSunrise = set(weather['Sunrise'])\n",
    "print(uniqueSunrise)"
   ]
  },
  {
   "cell_type": "code",
   "execution_count": 101,
   "metadata": {},
   "outputs": [
    {
     "name": "stdout",
     "output_type": "stream",
     "text": [
      "{'1924', '1860', '1931', '1856', '1658', '1826', '1851', '1807', '1654', '1712', '1744', '1906', '1756', '1839', '1755', '1803', '1845', '1858', '1812', '1832', '1651', '1709', '1854', '1707', '1725', '1904', '1829', '1908', '1821', '1737', '1915', '1857', '1901', '1819', '1730', '1835', '1859', '1729', '1920', '1902', '1809', '1814', '1741', '1647', '1917', '1824', '1911', '1701', '1849', '1649', '1660', '1831', '1714', '1748', '1749', '1909', '1927', '1739', '1704', '1827', '1912', '1905', '1930', '1923', '1913', '1742', '1916', '1815', '1703', '1706', '1840', '1653', '1650', '1717', '1822', '1850', '1656', '1720', '1919', '1852', '1715', '1914', '1846', '1746', '1837', '-', '1907', '1719', '1657', '1751', '1928', '1735', '1921', '1810', '1903', '1724', '1926', '1918', '1925', '1711', '1817', '1727', '1910', '1734', '1848', '1929', '1855', '1853', '1805', '1842', '1900', '1732', '1843', '1722', '1834', '1753', '1758', '1922', '1760'}\n"
     ]
    }
   ],
   "source": [
    "uniqueSunset = set(weather['Sunset'])\n",
    "print(uniqueSunset)"
   ]
  },
  {
   "cell_type": "code",
   "execution_count": 102,
   "metadata": {
    "collapsed": true
   },
   "outputs": [],
   "source": [
    "#Dropping more columns\n",
    "\n",
    "weather.drop(\"Sunrise\", axis = 1, inplace = True)\n",
    "weather.drop(\"Sunset\", axis = 1, inplace = True)"
   ]
  },
  {
   "cell_type": "code",
   "execution_count": 103,
   "metadata": {},
   "outputs": [
    {
     "name": "stdout",
     "output_type": "stream",
     "text": [
      "   Station        Date  Tmax  Tmin Tavg Depart  DewPoint WetBulb Heat Cool  \\\n",
      "0        1  2007-05-01    83    50   67     14        51      56    0    2   \n",
      "1        2  2007-05-01    84    52   68      M        51      57    0    3   \n",
      "2        1  2007-05-02    59    42   51     -3        42      47   14    0   \n",
      "3        2  2007-05-02    60    43   52      M        42      47   13    0   \n",
      "4        1  2007-05-03    66    46   56      2        40      48    9    0   \n",
      "5        2  2007-05-03    67    48   58      M        40      50    7    0   \n",
      "6        1  2007-05-04    66    49   58      4        41      50    7    0   \n",
      "7        2  2007-05-04    78    51    M      M        42      50    M    M   \n",
      "8        1  2007-05-05    66    53   60      5        38      49    5    0   \n",
      "9        2  2007-05-05    66    54   60      M        39      50    5    0   \n",
      "\n",
      "   PrecipTotal StnPressure SeaLevel  ResultSpeed  ResultDir AvgSpeed  \n",
      "0          0.0       29.10    29.82          1.7         27      9.2  \n",
      "1          0.0       29.18    29.82          2.7         25      9.6  \n",
      "2          0.0       29.38    30.09         13.0          4     13.4  \n",
      "3          0.0       29.44    30.08         13.3          2     13.4  \n",
      "4          0.0       29.39    30.12         11.7          7     11.9  \n",
      "5          0.0       29.46    30.12         12.9          6     13.2  \n",
      "6          NaN       29.31    30.05         10.4          8     10.8  \n",
      "7          0.0       29.36    30.04         10.1          7     10.4  \n",
      "8          NaN       29.40    30.10         11.7          7     12.0  \n",
      "9          NaN       29.46    30.09         11.2          7     11.5  \n"
     ]
    }
   ],
   "source": [
    "print(weather.head(10))"
   ]
  },
  {
   "cell_type": "code",
   "execution_count": 104,
   "metadata": {
    "collapsed": true
   },
   "outputs": [],
   "source": [
    "mask = ((weather['Station'] == 1))\n",
    "plusle = weather.loc[mask].copy()"
   ]
  },
  {
   "cell_type": "code",
   "execution_count": 105,
   "metadata": {},
   "outputs": [
    {
     "name": "stdout",
     "output_type": "stream",
     "text": [
      "    Station        Date  Tmax  Tmin Tavg Depart  DewPoint WetBulb Heat Cool  \\\n",
      "0         1  2007-05-01    83    50   67     14        51      56    0    2   \n",
      "2         1  2007-05-02    59    42   51     -3        42      47   14    0   \n",
      "4         1  2007-05-03    66    46   56      2        40      48    9    0   \n",
      "6         1  2007-05-04    66    49   58      4        41      50    7    0   \n",
      "8         1  2007-05-05    66    53   60      5        38      49    5    0   \n",
      "10        1  2007-05-06    68    49   59      4        30      46    6    0   \n",
      "12        1  2007-05-07    83    47   65     10        41      54    0    0   \n",
      "14        1  2007-05-08    82    54   68     12        58      62    0    3   \n",
      "16        1  2007-05-09    77    61   69     13        59      63    0    4   \n",
      "18        1  2007-05-10    84    56   70     14        52      60    0    5   \n",
      "\n",
      "    PrecipTotal StnPressure SeaLevel  ResultSpeed  ResultDir AvgSpeed  \n",
      "0          0.00       29.10    29.82          1.7         27      9.2  \n",
      "2          0.00       29.38    30.09         13.0          4     13.4  \n",
      "4          0.00       29.39    30.12         11.7          7     11.9  \n",
      "6           NaN       29.31    30.05         10.4          8     10.8  \n",
      "8           NaN       29.40    30.10         11.7          7     12.0  \n",
      "10         0.00       29.57    30.29         14.4         11     15.0  \n",
      "12          NaN       29.38    30.12          8.6         18     10.5  \n",
      "14         0.00       29.29    30.03          2.7         11      5.8  \n",
      "16         0.13       29.21    29.94          3.9          9      6.2  \n",
      "18         0.00       29.20    29.92          0.7         17      4.1  \n"
     ]
    }
   ],
   "source": [
    "print(plusle.head(10))"
   ]
  },
  {
   "cell_type": "code",
   "execution_count": 106,
   "metadata": {
    "collapsed": true
   },
   "outputs": [],
   "source": [
    "mask = ((weather['Station'] == 2))\n",
    "minun = weather.loc[mask].copy()"
   ]
  },
  {
   "cell_type": "code",
   "execution_count": 107,
   "metadata": {},
   "outputs": [
    {
     "name": "stdout",
     "output_type": "stream",
     "text": [
      "    Station        Date  Tmax  Tmin Tavg Depart  DewPoint WetBulb Heat Cool  \\\n",
      "1         2  2007-05-01    84    52   68      M        51      57    0    3   \n",
      "3         2  2007-05-02    60    43   52      M        42      47   13    0   \n",
      "5         2  2007-05-03    67    48   58      M        40      50    7    0   \n",
      "7         2  2007-05-04    78    51    M      M        42      50    M    M   \n",
      "9         2  2007-05-05    66    54   60      M        39      50    5    0   \n",
      "11        2  2007-05-06    68    52   60      M        30      46    5    0   \n",
      "13        2  2007-05-07    84    50   67      M        39      53    0    2   \n",
      "15        2  2007-05-08    80    60   70      M        57      63    0    5   \n",
      "17        2  2007-05-09    76    63   70      M        60      63    0    5   \n",
      "19        2  2007-05-10    83    59   71      M        52      61    0    6   \n",
      "\n",
      "    PrecipTotal StnPressure SeaLevel  ResultSpeed  ResultDir AvgSpeed  \n",
      "1          0.00       29.18    29.82          2.7         25      9.6  \n",
      "3          0.00       29.44    30.08         13.3          2     13.4  \n",
      "5          0.00       29.46    30.12         12.9          6     13.2  \n",
      "7          0.00       29.36    30.04         10.1          7     10.4  \n",
      "9           NaN       29.46    30.09         11.2          7     11.5  \n",
      "11         0.00       29.62    30.28         13.8         10     14.5  \n",
      "13         0.00       29.44    30.12          8.5         17      9.9  \n",
      "15          NaN       29.36    30.02          2.5          8      5.4  \n",
      "17         0.02       29.28    29.93          3.9          7      5.9  \n",
      "19         0.00       29.26    29.91          2.0          9      3.9  \n"
     ]
    }
   ],
   "source": [
    "print(minun.head(10))"
   ]
  },
  {
   "cell_type": "code",
   "execution_count": 108,
   "metadata": {
    "collapsed": true
   },
   "outputs": [],
   "source": [
    "minun['Depart'] = plusle['Depart'].values"
   ]
  },
  {
   "cell_type": "code",
   "execution_count": 109,
   "metadata": {
    "scrolled": false
   },
   "outputs": [
    {
     "name": "stdout",
     "output_type": "stream",
     "text": [
      "    Station        Date  Tmax  Tmin Tavg Depart  DewPoint WetBulb Heat Cool  \\\n",
      "1         2  2007-05-01    84    52   68     14        51      57    0    3   \n",
      "3         2  2007-05-02    60    43   52     -3        42      47   13    0   \n",
      "5         2  2007-05-03    67    48   58      2        40      50    7    0   \n",
      "7         2  2007-05-04    78    51    M      4        42      50    M    M   \n",
      "9         2  2007-05-05    66    54   60      5        39      50    5    0   \n",
      "11        2  2007-05-06    68    52   60      4        30      46    5    0   \n",
      "13        2  2007-05-07    84    50   67     10        39      53    0    2   \n",
      "15        2  2007-05-08    80    60   70     12        57      63    0    5   \n",
      "17        2  2007-05-09    76    63   70     13        60      63    0    5   \n",
      "19        2  2007-05-10    83    59   71     14        52      61    0    6   \n",
      "\n",
      "    PrecipTotal StnPressure SeaLevel  ResultSpeed  ResultDir AvgSpeed  \n",
      "1          0.00       29.18    29.82          2.7         25      9.6  \n",
      "3          0.00       29.44    30.08         13.3          2     13.4  \n",
      "5          0.00       29.46    30.12         12.9          6     13.2  \n",
      "7          0.00       29.36    30.04         10.1          7     10.4  \n",
      "9           NaN       29.46    30.09         11.2          7     11.5  \n",
      "11         0.00       29.62    30.28         13.8         10     14.5  \n",
      "13         0.00       29.44    30.12          8.5         17      9.9  \n",
      "15          NaN       29.36    30.02          2.5          8      5.4  \n",
      "17         0.02       29.28    29.93          3.9          7      5.9  \n",
      "19         0.00       29.26    29.91          2.0          9      3.9  \n"
     ]
    }
   ],
   "source": [
    "print(minun.head(10))"
   ]
  },
  {
   "cell_type": "code",
   "execution_count": 110,
   "metadata": {
    "collapsed": true
   },
   "outputs": [],
   "source": [
    "mask = (minun['Tavg'] == 'M')\n",
    "minun.loc[mask,'Tavg'] = np.nan"
   ]
  },
  {
   "cell_type": "code",
   "execution_count": 111,
   "metadata": {
    "scrolled": false
   },
   "outputs": [
    {
     "name": "stdout",
     "output_type": "stream",
     "text": [
      "{nan, '52', '61', '42', '82', '41', '94', '86', '56', '80', '65', '91', '60', '79', '70', '69', '53', '85', '47', '64', '92', '57', '78', '66', '62', '59', '67', '43', '89', '75', '55', '87', '73', '46', '50', '36', '37', '76', '49', '77', '81', '90', '45', '68', '58', '84', '51', '72', '88', '40', '71', '63', '44', '54', '83', '48', '74', '39'}\n"
     ]
    }
   ],
   "source": [
    "uniqueTavg = set(minun['Tavg'])\n",
    "print(uniqueTavg)"
   ]
  },
  {
   "cell_type": "code",
   "execution_count": 112,
   "metadata": {
    "collapsed": true
   },
   "outputs": [],
   "source": [
    "fillna_table = plusle.copy()"
   ]
  },
  {
   "cell_type": "code",
   "execution_count": 113,
   "metadata": {
    "collapsed": true
   },
   "outputs": [],
   "source": [
    "minun = minun.fillna(fillna_table)"
   ]
  },
  {
   "cell_type": "code",
   "execution_count": 114,
   "metadata": {
    "collapsed": true
   },
   "outputs": [],
   "source": [
    "minun = minun.set_index(plusle.index)"
   ]
  },
  {
   "cell_type": "code",
   "execution_count": 115,
   "metadata": {
    "collapsed": true
   },
   "outputs": [],
   "source": [
    "minun['Tavg'] = round(((minun['Tmax'] + minun['Tmin'])/2), 0)"
   ]
  },
  {
   "cell_type": "code",
   "execution_count": 116,
   "metadata": {},
   "outputs": [
    {
     "name": "stdout",
     "output_type": "stream",
     "text": [
      "    Station        Date  Tmax  Tmin  Tavg Depart  DewPoint WetBulb Heat Cool  \\\n",
      "0         2  2007-05-01    84    52  68.0     14        51      57    0    3   \n",
      "2         2  2007-05-02    60    43  52.0     -3        42      47   13    0   \n",
      "4         2  2007-05-03    67    48  58.0      2        40      50    7    0   \n",
      "6         2  2007-05-04    78    51  64.0      4        42      50    M    M   \n",
      "8         2  2007-05-05    66    54  60.0      5        39      50    5    0   \n",
      "10        2  2007-05-06    68    52  60.0      4        30      46    5    0   \n",
      "12        2  2007-05-07    84    50  67.0     10        39      53    0    2   \n",
      "14        2  2007-05-08    80    60  70.0     12        57      63    0    5   \n",
      "16        2  2007-05-09    76    63  70.0     13        60      63    0    5   \n",
      "18        2  2007-05-10    83    59  71.0     14        52      61    0    6   \n",
      "\n",
      "    PrecipTotal StnPressure SeaLevel  ResultSpeed  ResultDir AvgSpeed  \n",
      "0          0.00       29.18    29.82          2.7         25      9.6  \n",
      "2          0.00       29.44    30.08         13.3          2     13.4  \n",
      "4          0.00       29.46    30.12         12.9          6     13.2  \n",
      "6          0.00       29.36    30.04         10.1          7     10.4  \n",
      "8           NaN       29.46    30.09         11.2          7     11.5  \n",
      "10         0.00       29.62    30.28         13.8         10     14.5  \n",
      "12         0.00       29.44    30.12          8.5         17      9.9  \n",
      "14          NaN       29.36    30.02          2.5          8      5.4  \n",
      "16         0.02       29.28    29.93          3.9          7      5.9  \n",
      "18         0.00       29.26    29.91          2.0          9      3.9  \n"
     ]
    }
   ],
   "source": [
    "print(minun.head(10))"
   ]
  },
  {
   "cell_type": "code",
   "execution_count": 117,
   "metadata": {
    "collapsed": true
   },
   "outputs": [],
   "source": [
    "mask = (minun['Heat'] == 'M')\n",
    "minun.loc[mask,'Heat'] = np.nan"
   ]
  },
  {
   "cell_type": "code",
   "execution_count": 118,
   "metadata": {
    "collapsed": true
   },
   "outputs": [],
   "source": [
    "mask = (minun['Cool'] == 'M')\n",
    "minun.loc[mask,'Cool'] = np.nan"
   ]
  },
  {
   "cell_type": "code",
   "execution_count": 119,
   "metadata": {},
   "outputs": [
    {
     "name": "stdout",
     "output_type": "stream",
     "text": [
      "    Station        Date  Tmax  Tmin  Tavg Depart  DewPoint WetBulb Heat Cool  \\\n",
      "0         2  2007-05-01    84    52  68.0     14        51      57    0    3   \n",
      "2         2  2007-05-02    60    43  52.0     -3        42      47   13    0   \n",
      "4         2  2007-05-03    67    48  58.0      2        40      50    7    0   \n",
      "6         2  2007-05-04    78    51  64.0      4        42      50  NaN  NaN   \n",
      "8         2  2007-05-05    66    54  60.0      5        39      50    5    0   \n",
      "10        2  2007-05-06    68    52  60.0      4        30      46    5    0   \n",
      "12        2  2007-05-07    84    50  67.0     10        39      53    0    2   \n",
      "14        2  2007-05-08    80    60  70.0     12        57      63    0    5   \n",
      "16        2  2007-05-09    76    63  70.0     13        60      63    0    5   \n",
      "18        2  2007-05-10    83    59  71.0     14        52      61    0    6   \n",
      "\n",
      "    PrecipTotal StnPressure SeaLevel  ResultSpeed  ResultDir AvgSpeed  \n",
      "0          0.00       29.18    29.82          2.7         25      9.6  \n",
      "2          0.00       29.44    30.08         13.3          2     13.4  \n",
      "4          0.00       29.46    30.12         12.9          6     13.2  \n",
      "6          0.00       29.36    30.04         10.1          7     10.4  \n",
      "8           NaN       29.46    30.09         11.2          7     11.5  \n",
      "10         0.00       29.62    30.28         13.8         10     14.5  \n",
      "12         0.00       29.44    30.12          8.5         17      9.9  \n",
      "14          NaN       29.36    30.02          2.5          8      5.4  \n",
      "16         0.02       29.28    29.93          3.9          7      5.9  \n",
      "18         0.00       29.26    29.91          2.0          9      3.9  \n"
     ]
    }
   ],
   "source": [
    "print(minun.head(10))"
   ]
  },
  {
   "cell_type": "code",
   "execution_count": 120,
   "metadata": {
    "collapsed": true
   },
   "outputs": [],
   "source": [
    "minun = minun.fillna(fillna_table)"
   ]
  },
  {
   "cell_type": "code",
   "execution_count": 121,
   "metadata": {},
   "outputs": [
    {
     "name": "stdout",
     "output_type": "stream",
     "text": [
      "    Station        Date  Tmax  Tmin Tavg Depart  DewPoint WetBulb Heat Cool  \\\n",
      "0         2  2007-05-01    84    52   68     14        51      57    0    3   \n",
      "2         2  2007-05-02    60    43   52     -3        42      47   13    0   \n",
      "4         2  2007-05-03    67    48   58      2        40      50    7    0   \n",
      "6         2  2007-05-04    78    51   64      4        42      50    7    0   \n",
      "8         2  2007-05-05    66    54   60      5        39      50    5    0   \n",
      "10        2  2007-05-06    68    52   60      4        30      46    5    0   \n",
      "12        2  2007-05-07    84    50   67     10        39      53    0    2   \n",
      "14        2  2007-05-08    80    60   70     12        57      63    0    5   \n",
      "16        2  2007-05-09    76    63   70     13        60      63    0    5   \n",
      "18        2  2007-05-10    83    59   71     14        52      61    0    6   \n",
      "\n",
      "   PrecipTotal StnPressure SeaLevel ResultSpeed  ResultDir AvgSpeed  \n",
      "0            0       29.18    29.82         2.7         25      9.6  \n",
      "2            0       29.44    30.08        13.3          2     13.4  \n",
      "4            0       29.46    30.12        12.9          6     13.2  \n",
      "6            0       29.36    30.04        10.1          7     10.4  \n",
      "8          NaN       29.46    30.09        11.2          7     11.5  \n",
      "10           0       29.62    30.28        13.8         10     14.5  \n",
      "12           0       29.44    30.12         8.5         17      9.9  \n",
      "14           0       29.36    30.02         2.5          8      5.4  \n",
      "16        0.02       29.28    29.93         3.9          7      5.9  \n",
      "18           0       29.26    29.91           2          9      3.9  \n"
     ]
    }
   ],
   "source": [
    "print(minun.head(10))"
   ]
  },
  {
   "cell_type": "code",
   "execution_count": 122,
   "metadata": {
    "collapsed": true
   },
   "outputs": [],
   "source": [
    "fillna_table2 = minun.copy()\n",
    "plusle = plusle.fillna(fillna_table2)"
   ]
  },
  {
   "cell_type": "code",
   "execution_count": 123,
   "metadata": {},
   "outputs": [
    {
     "name": "stdout",
     "output_type": "stream",
     "text": [
      "    Station        Date  Tmax  Tmin Tavg Depart  DewPoint WetBulb Heat Cool  \\\n",
      "0         1  2007-05-01    83    50   67     14        51      56    0    2   \n",
      "2         1  2007-05-02    59    42   51     -3        42      47   14    0   \n",
      "4         1  2007-05-03    66    46   56      2        40      48    9    0   \n",
      "6         1  2007-05-04    66    49   58      4        41      50    7    0   \n",
      "8         1  2007-05-05    66    53   60      5        38      49    5    0   \n",
      "10        1  2007-05-06    68    49   59      4        30      46    6    0   \n",
      "12        1  2007-05-07    83    47   65     10        41      54    0    0   \n",
      "14        1  2007-05-08    82    54   68     12        58      62    0    3   \n",
      "16        1  2007-05-09    77    61   69     13        59      63    0    4   \n",
      "18        1  2007-05-10    84    56   70     14        52      60    0    5   \n",
      "\n",
      "   PrecipTotal StnPressure SeaLevel ResultSpeed  ResultDir AvgSpeed  \n",
      "0            0       29.10    29.82         1.7         27      9.2  \n",
      "2            0       29.38    30.09          13          4     13.4  \n",
      "4            0       29.39    30.12        11.7          7     11.9  \n",
      "6            0       29.31    30.05        10.4          8     10.8  \n",
      "8          NaN       29.40    30.10        11.7          7     12.0  \n",
      "10           0       29.57    30.29        14.4         11     15.0  \n",
      "12           0       29.38    30.12         8.6         18     10.5  \n",
      "14           0       29.29    30.03         2.7         11      5.8  \n",
      "16        0.13       29.21    29.94         3.9          9      6.2  \n",
      "18           0       29.20    29.92         0.7         17      4.1  \n"
     ]
    }
   ],
   "source": [
    "print(plusle.head(10))"
   ]
  },
  {
   "cell_type": "code",
   "execution_count": 124,
   "metadata": {
    "collapsed": true
   },
   "outputs": [],
   "source": [
    "minun = minun.fillna(0)\n",
    "plusle = plusle.fillna(0)"
   ]
  },
  {
   "cell_type": "code",
   "execution_count": 125,
   "metadata": {},
   "outputs": [
    {
     "name": "stdout",
     "output_type": "stream",
     "text": [
      "    Station        Date  Tmax  Tmin  Tavg Depart  DewPoint WetBulb Heat Cool  \\\n",
      "0         2  2007-05-01    84    52  68.0     14        51      57    0    3   \n",
      "2         2  2007-05-02    60    43  52.0     -3        42      47   13    0   \n",
      "4         2  2007-05-03    67    48  58.0      2        40      50    7    0   \n",
      "6         2  2007-05-04    78    51  64.0      4        42      50    7    0   \n",
      "8         2  2007-05-05    66    54  60.0      5        39      50    5    0   \n",
      "10        2  2007-05-06    68    52  60.0      4        30      46    5    0   \n",
      "12        2  2007-05-07    84    50  67.0     10        39      53    0    2   \n",
      "14        2  2007-05-08    80    60  70.0     12        57      63    0    5   \n",
      "16        2  2007-05-09    76    63  70.0     13        60      63    0    5   \n",
      "18        2  2007-05-10    83    59  71.0     14        52      61    0    6   \n",
      "\n",
      "    PrecipTotal StnPressure SeaLevel  ResultSpeed  ResultDir AvgSpeed  \n",
      "0          0.00       29.18    29.82          2.7         25      9.6  \n",
      "2          0.00       29.44    30.08         13.3          2     13.4  \n",
      "4          0.00       29.46    30.12         12.9          6     13.2  \n",
      "6          0.00       29.36    30.04         10.1          7     10.4  \n",
      "8          0.00       29.46    30.09         11.2          7     11.5  \n",
      "10         0.00       29.62    30.28         13.8         10     14.5  \n",
      "12         0.00       29.44    30.12          8.5         17      9.9  \n",
      "14         0.00       29.36    30.02          2.5          8      5.4  \n",
      "16         0.02       29.28    29.93          3.9          7      5.9  \n",
      "18         0.00       29.26    29.91          2.0          9      3.9  \n"
     ]
    }
   ],
   "source": [
    "print(minun.head(10))"
   ]
  },
  {
   "cell_type": "code",
   "execution_count": 126,
   "metadata": {},
   "outputs": [
    {
     "name": "stdout",
     "output_type": "stream",
     "text": [
      "    Station        Date  Tmax  Tmin Tavg Depart  DewPoint WetBulb Heat Cool  \\\n",
      "0         1  2007-05-01    83    50   67     14        51      56    0    2   \n",
      "2         1  2007-05-02    59    42   51     -3        42      47   14    0   \n",
      "4         1  2007-05-03    66    46   56      2        40      48    9    0   \n",
      "6         1  2007-05-04    66    49   58      4        41      50    7    0   \n",
      "8         1  2007-05-05    66    53   60      5        38      49    5    0   \n",
      "10        1  2007-05-06    68    49   59      4        30      46    6    0   \n",
      "12        1  2007-05-07    83    47   65     10        41      54    0    0   \n",
      "14        1  2007-05-08    82    54   68     12        58      62    0    3   \n",
      "16        1  2007-05-09    77    61   69     13        59      63    0    4   \n",
      "18        1  2007-05-10    84    56   70     14        52      60    0    5   \n",
      "\n",
      "    PrecipTotal StnPressure SeaLevel  ResultSpeed  ResultDir AvgSpeed  \n",
      "0          0.00       29.10    29.82          1.7         27      9.2  \n",
      "2          0.00       29.38    30.09         13.0          4     13.4  \n",
      "4          0.00       29.39    30.12         11.7          7     11.9  \n",
      "6          0.00       29.31    30.05         10.4          8     10.8  \n",
      "8          0.00       29.40    30.10         11.7          7     12.0  \n",
      "10         0.00       29.57    30.29         14.4         11     15.0  \n",
      "12         0.00       29.38    30.12          8.6         18     10.5  \n",
      "14         0.00       29.29    30.03          2.7         11      5.8  \n",
      "16         0.13       29.21    29.94          3.9          9      6.2  \n",
      "18         0.00       29.20    29.92          0.7         17      4.1  \n"
     ]
    }
   ],
   "source": [
    "print(plusle.head(10))"
   ]
  },
  {
   "cell_type": "code",
   "execution_count": 127,
   "metadata": {
    "collapsed": true
   },
   "outputs": [],
   "source": [
    "pluslepure = plusle.drop(['Station', 'Date'], axis = 1)\n",
    "minunpure = minun.drop(['Station', 'Date'], axis = 1)"
   ]
  },
  {
   "cell_type": "code",
   "execution_count": 128,
   "metadata": {},
   "outputs": [
    {
     "name": "stdout",
     "output_type": "stream",
     "text": [
      "    Tmax  Tmin Tavg Depart  DewPoint WetBulb Heat Cool  PrecipTotal  \\\n",
      "0     83    50   67     14        51      56    0    2         0.00   \n",
      "2     59    42   51     -3        42      47   14    0         0.00   \n",
      "4     66    46   56      2        40      48    9    0         0.00   \n",
      "6     66    49   58      4        41      50    7    0         0.00   \n",
      "8     66    53   60      5        38      49    5    0         0.00   \n",
      "10    68    49   59      4        30      46    6    0         0.00   \n",
      "12    83    47   65     10        41      54    0    0         0.00   \n",
      "14    82    54   68     12        58      62    0    3         0.00   \n",
      "16    77    61   69     13        59      63    0    4         0.13   \n",
      "18    84    56   70     14        52      60    0    5         0.00   \n",
      "\n",
      "   StnPressure SeaLevel  ResultSpeed  ResultDir AvgSpeed  \n",
      "0        29.10    29.82          1.7         27      9.2  \n",
      "2        29.38    30.09         13.0          4     13.4  \n",
      "4        29.39    30.12         11.7          7     11.9  \n",
      "6        29.31    30.05         10.4          8     10.8  \n",
      "8        29.40    30.10         11.7          7     12.0  \n",
      "10       29.57    30.29         14.4         11     15.0  \n",
      "12       29.38    30.12          8.6         18     10.5  \n",
      "14       29.29    30.03          2.7         11      5.8  \n",
      "16       29.21    29.94          3.9          9      6.2  \n",
      "18       29.20    29.92          0.7         17      4.1  \n"
     ]
    }
   ],
   "source": [
    "print(pluslepure.head(10))"
   ]
  },
  {
   "cell_type": "code",
   "execution_count": 129,
   "metadata": {},
   "outputs": [
    {
     "name": "stdout",
     "output_type": "stream",
     "text": [
      "    Tmax  Tmin  Tavg Depart  DewPoint WetBulb Heat Cool  PrecipTotal  \\\n",
      "0     84    52  68.0     14        51      57    0    3         0.00   \n",
      "2     60    43  52.0     -3        42      47   13    0         0.00   \n",
      "4     67    48  58.0      2        40      50    7    0         0.00   \n",
      "6     78    51  64.0      4        42      50    7    0         0.00   \n",
      "8     66    54  60.0      5        39      50    5    0         0.00   \n",
      "10    68    52  60.0      4        30      46    5    0         0.00   \n",
      "12    84    50  67.0     10        39      53    0    2         0.00   \n",
      "14    80    60  70.0     12        57      63    0    5         0.00   \n",
      "16    76    63  70.0     13        60      63    0    5         0.02   \n",
      "18    83    59  71.0     14        52      61    0    6         0.00   \n",
      "\n",
      "   StnPressure SeaLevel  ResultSpeed  ResultDir AvgSpeed  \n",
      "0        29.18    29.82          2.7         25      9.6  \n",
      "2        29.44    30.08         13.3          2     13.4  \n",
      "4        29.46    30.12         12.9          6     13.2  \n",
      "6        29.36    30.04         10.1          7     10.4  \n",
      "8        29.46    30.09         11.2          7     11.5  \n",
      "10       29.62    30.28         13.8         10     14.5  \n",
      "12       29.44    30.12          8.5         17      9.9  \n",
      "14       29.36    30.02          2.5          8      5.4  \n",
      "16       29.28    29.93          3.9          7      5.9  \n",
      "18       29.26    29.91          2.0          9      3.9  \n"
     ]
    }
   ],
   "source": [
    "print(minunpure.head(10))"
   ]
  },
  {
   "cell_type": "code",
   "execution_count": 130,
   "metadata": {
    "collapsed": true
   },
   "outputs": [],
   "source": [
    "minunpure = minunpure.set_index(pluslepure.index)"
   ]
  },
  {
   "cell_type": "code",
   "execution_count": 131,
   "metadata": {},
   "outputs": [],
   "source": [
    "mask = (minunpure['WetBulb'] == 'M')\n",
    "minunpure.loc[mask,'WetBulb'] = np.nan\n",
    "\n",
    "mask = (minunpure['StnPressure'] == 'M')\n",
    "minunpure.loc[mask,'StnPressure'] = np.nan\n",
    "\n",
    "mask = (minunpure['SeaLevel'] == 'M')\n",
    "minunpure.loc[mask,'SeaLevel'] = np.nan\n",
    "\n",
    "mask = (minunpure['AvgSpeed'] == 'M')\n",
    "minunpure.loc[mask,'AvgSpeed'] = np.nan"
   ]
  },
  {
   "cell_type": "code",
   "execution_count": 132,
   "metadata": {},
   "outputs": [],
   "source": [
    "mask = (pluslepure['WetBulb'] == 'M')\n",
    "pluslepure.loc[mask,'WetBulb'] = np.nan\n",
    "\n",
    "mask = (pluslepure['StnPressure'] == 'M')\n",
    "pluslepure.loc[mask,'StnPressure'] = np.nan\n",
    "\n",
    "mask = (pluslepure['SeaLevel'] == 'M')\n",
    "pluslepure.loc[mask,'SeaLevel'] = np.nan"
   ]
  },
  {
   "cell_type": "code",
   "execution_count": 133,
   "metadata": {
    "collapsed": true
   },
   "outputs": [],
   "source": [
    "fillna_tablepp = pluslepure.copy()\n",
    "fillna_tablemp = minunpure.copy()\n",
    "\n",
    "minunpure = minunpure.fillna(fillna_tablepp)\n",
    "pluslepure = pluslepure.fillna(fillna_tablemp)"
   ]
  },
  {
   "cell_type": "code",
   "execution_count": 134,
   "metadata": {},
   "outputs": [],
   "source": [
    "minunpure['Tmax'] = minunpure['Tmax'].apply(float)\n",
    "minunpure['Tmin'] = minunpure['Tmin'].apply(float)\n",
    "minunpure['Tavg'] = minunpure['Tavg'].apply(float)\n",
    "minunpure['Depart'] = minunpure['Depart'].apply(float)\n",
    "minunpure['DewPoint'] = minunpure['DewPoint'].apply(float)\n",
    "minunpure['WetBulb'] = minunpure['WetBulb'].apply(float)\n",
    "minunpure['Heat'] = minunpure['Heat'].apply(float)\n",
    "minunpure['Cool'] = minunpure['Cool'].apply(float)\n",
    "minunpure['PrecipTotal'] = minunpure['PrecipTotal'].apply(float)\n",
    "minunpure['StnPressure'] = minunpure['StnPressure'].apply(float)\n",
    "minunpure['SeaLevel'] = minunpure['SeaLevel'].apply(float)\n",
    "minunpure['ResultSpeed'] = minunpure['ResultSpeed'].apply(float)\n",
    "minunpure['ResultDir'] = minunpure['ResultDir'].apply(float)\n",
    "minunpure['AvgSpeed'] = minunpure['AvgSpeed'].apply(float)"
   ]
  },
  {
   "cell_type": "code",
   "execution_count": 135,
   "metadata": {
    "collapsed": true
   },
   "outputs": [],
   "source": [
    "pluslepure['Tmax'] = pluslepure['Tmax'].apply(float)\n",
    "pluslepure['Tmin'] = pluslepure['Tmin'].apply(float)\n",
    "pluslepure['Tavg'] = pluslepure['Tavg'].apply(float)\n",
    "pluslepure['Depart'] = pluslepure['Depart'].apply(float)\n",
    "pluslepure['DewPoint'] = pluslepure['DewPoint'].apply(float)\n",
    "pluslepure['WetBulb'] = pluslepure['WetBulb'].apply(float)\n",
    "pluslepure['Heat'] = pluslepure['Heat'].apply(float)\n",
    "pluslepure['Cool'] = pluslepure['Cool'].apply(float)\n",
    "pluslepure['PrecipTotal'] = pluslepure['PrecipTotal'].apply(float)\n",
    "pluslepure['StnPressure'] = pluslepure['StnPressure'].apply(float)\n",
    "pluslepure['SeaLevel'] = pluslepure['SeaLevel'].apply(float)\n",
    "pluslepure['ResultSpeed'] = pluslepure['ResultSpeed'].apply(float)\n",
    "pluslepure['ResultDir'] = pluslepure['ResultDir'].apply(float)\n",
    "pluslepure['AvgSpeed'] = pluslepure['AvgSpeed'].apply(float)"
   ]
  },
  {
   "cell_type": "code",
   "execution_count": 136,
   "metadata": {},
   "outputs": [
    {
     "name": "stdout",
     "output_type": "stream",
     "text": [
      "              Tmax         Tmin         Tavg       Depart     DewPoint  \\\n",
      "count  1472.000000  1472.000000  1472.000000  1472.000000  1472.000000   \n",
      "mean     76.353261    58.889946    67.618886     1.954484    53.538043   \n",
      "std      11.421482    10.306855    10.535854     6.841110    10.683121   \n",
      "min      41.000000    29.000000    36.000000   -17.000000    23.000000   \n",
      "25%      69.000000    51.000000    60.000000    -3.000000    46.000000   \n",
      "50%      78.000000    60.000000    70.000000     2.000000    55.000000   \n",
      "75%      85.000000    67.000000    76.000000     7.000000    62.000000   \n",
      "max     104.000000    83.000000    94.000000    23.000000    74.000000   \n",
      "\n",
      "           WetBulb         Heat         Cool  PrecipTotal  StnPressure  \\\n",
      "count  1472.000000  1472.000000  1472.000000  1472.000000  1471.000000   \n",
      "mean     59.591033     3.204484     6.044837     0.132283    29.314684   \n",
      "std       9.244169     5.765144     6.279738     0.364783     0.155126   \n",
      "min      33.000000     0.000000     0.000000     0.000000    28.630000   \n",
      "25%      53.000000     0.000000     0.000000     0.000000    29.230000   \n",
      "50%      61.000000     0.000000     5.000000     0.000000    29.320000   \n",
      "75%      67.000000     4.000000    11.000000     0.070000    29.410000   \n",
      "max      77.000000    29.000000    29.000000     4.730000    29.860000   \n",
      "\n",
      "          SeaLevel  ResultSpeed   ResultDir     AvgSpeed  \n",
      "count  1472.000000  1472.000000  1472.00000  1472.000000  \n",
      "mean     29.963811     6.934239    17.33356     8.587364  \n",
      "std       0.158836     3.589725     9.90345     3.105672  \n",
      "min      29.230000     0.300000     1.00000     1.700000  \n",
      "25%      29.870000     4.275000     8.00000     6.300000  \n",
      "50%      29.970000     6.500000    19.00000     8.100000  \n",
      "75%      30.060000     9.225000    24.00000    10.400000  \n",
      "max      30.530000    21.700000    36.00000    22.600000  \n"
     ]
    }
   ],
   "source": [
    "print(minunpure.describe())"
   ]
  },
  {
   "cell_type": "code",
   "execution_count": 137,
   "metadata": {},
   "outputs": [
    {
     "name": "stdout",
     "output_type": "stream",
     "text": [
      "             Tmax         Tmin         Tavg       Depart     DewPoint  \\\n",
      "count  1472.00000  1472.000000  1472.000000  1472.000000  1472.000000   \n",
      "mean     75.97894    56.730978    66.606658     1.954484    53.377717   \n",
      "std      11.50315    10.347907    10.511437     6.841110    10.670263   \n",
      "min      42.00000    29.000000    36.000000   -17.000000    22.000000   \n",
      "25%      68.00000    49.000000    60.000000    -3.000000    46.000000   \n",
      "50%      78.00000    58.000000    68.000000     2.000000    54.000000   \n",
      "75%      85.00000    65.000000    75.000000     7.000000    61.250000   \n",
      "max     103.00000    82.000000    93.000000    23.000000    75.000000   \n",
      "\n",
      "           WetBulb         Heat         Cool  PrecipTotal  StnPressure  \\\n",
      "count  1472.000000  1472.000000  1472.000000  1472.000000  1471.000000   \n",
      "mean     59.047554     3.631114     5.237772     0.136311    29.254167   \n",
      "std       9.317960     6.133829     5.899382     0.420933     0.156100   \n",
      "min      32.000000     0.000000     0.000000     0.000000    28.550000   \n",
      "25%      53.000000     0.000000     0.000000     0.000000    29.160000   \n",
      "50%      60.000000     0.000000     3.000000     0.000000    29.260000   \n",
      "75%      66.000000     5.000000    10.000000     0.070000    29.350000   \n",
      "max      78.000000    29.000000    28.000000     6.860000    29.790000   \n",
      "\n",
      "          SeaLevel  ResultSpeed    ResultDir     AvgSpeed  \n",
      "count  1472.000000  1472.000000  1472.000000  1472.000000  \n",
      "mean     29.972738     6.987092    17.656250     8.570788  \n",
      "std       0.158065     3.586353    10.222077     3.187250  \n",
      "min      29.250000     0.100000     1.000000     1.900000  \n",
      "25%      29.880000     4.400000     7.000000     6.200000  \n",
      "50%      29.980000     6.400000    19.500000     8.100000  \n",
      "75%      30.070000     9.100000    26.000000    10.400000  \n",
      "max      30.520000    24.100000    36.000000    26.300000  \n"
     ]
    }
   ],
   "source": [
    "print(pluslepure.describe())"
   ]
  },
  {
   "cell_type": "code",
   "execution_count": 138,
   "metadata": {},
   "outputs": [],
   "source": [
    "minunpure['StnPressure'] = minunpure['StnPressure'].fillna(29.3146838885)"
   ]
  },
  {
   "cell_type": "code",
   "execution_count": 139,
   "metadata": {},
   "outputs": [
    {
     "name": "stdout",
     "output_type": "stream",
     "text": [
      "    Tmax  Tmin  Tavg  Depart  DewPoint  WetBulb  Heat  Cool  PrecipTotal  \\\n",
      "0   83.0  50.0  67.0    14.0      51.0     56.0   0.0   2.0         0.00   \n",
      "2   59.0  42.0  51.0    -3.0      42.0     47.0  14.0   0.0         0.00   \n",
      "4   66.0  46.0  56.0     2.0      40.0     48.0   9.0   0.0         0.00   \n",
      "6   66.0  49.0  58.0     4.0      41.0     50.0   7.0   0.0         0.00   \n",
      "8   66.0  53.0  60.0     5.0      38.0     49.0   5.0   0.0         0.00   \n",
      "10  68.0  49.0  59.0     4.0      30.0     46.0   6.0   0.0         0.00   \n",
      "12  83.0  47.0  65.0    10.0      41.0     54.0   0.0   0.0         0.00   \n",
      "14  82.0  54.0  68.0    12.0      58.0     62.0   0.0   3.0         0.00   \n",
      "16  77.0  61.0  69.0    13.0      59.0     63.0   0.0   4.0         0.13   \n",
      "18  84.0  56.0  70.0    14.0      52.0     60.0   0.0   5.0         0.00   \n",
      "\n",
      "    StnPressure  SeaLevel  ResultSpeed  ResultDir  AvgSpeed  \n",
      "0         29.10     29.82          1.7       27.0       9.2  \n",
      "2         29.38     30.09         13.0        4.0      13.4  \n",
      "4         29.39     30.12         11.7        7.0      11.9  \n",
      "6         29.31     30.05         10.4        8.0      10.8  \n",
      "8         29.40     30.10         11.7        7.0      12.0  \n",
      "10        29.57     30.29         14.4       11.0      15.0  \n",
      "12        29.38     30.12          8.6       18.0      10.5  \n",
      "14        29.29     30.03          2.7       11.0       5.8  \n",
      "16        29.21     29.94          3.9        9.0       6.2  \n",
      "18        29.20     29.92          0.7       17.0       4.1  \n"
     ]
    }
   ],
   "source": [
    "print(pluslepure.head(10))"
   ]
  },
  {
   "cell_type": "code",
   "execution_count": 140,
   "metadata": {},
   "outputs": [
    {
     "name": "stdout",
     "output_type": "stream",
     "text": [
      "    Tmax  Tmin  Tavg  Depart  DewPoint  WetBulb  Heat  Cool  PrecipTotal  \\\n",
      "0   84.0  52.0  68.0    14.0      51.0     57.0   0.0   3.0         0.00   \n",
      "2   60.0  43.0  52.0    -3.0      42.0     47.0  13.0   0.0         0.00   \n",
      "4   67.0  48.0  58.0     2.0      40.0     50.0   7.0   0.0         0.00   \n",
      "6   78.0  51.0  64.0     4.0      42.0     50.0   7.0   0.0         0.00   \n",
      "8   66.0  54.0  60.0     5.0      39.0     50.0   5.0   0.0         0.00   \n",
      "10  68.0  52.0  60.0     4.0      30.0     46.0   5.0   0.0         0.00   \n",
      "12  84.0  50.0  67.0    10.0      39.0     53.0   0.0   2.0         0.00   \n",
      "14  80.0  60.0  70.0    12.0      57.0     63.0   0.0   5.0         0.00   \n",
      "16  76.0  63.0  70.0    13.0      60.0     63.0   0.0   5.0         0.02   \n",
      "18  83.0  59.0  71.0    14.0      52.0     61.0   0.0   6.0         0.00   \n",
      "\n",
      "    StnPressure  SeaLevel  ResultSpeed  ResultDir  AvgSpeed  \n",
      "0         29.18     29.82          2.7       25.0       9.6  \n",
      "2         29.44     30.08         13.3        2.0      13.4  \n",
      "4         29.46     30.12         12.9        6.0      13.2  \n",
      "6         29.36     30.04         10.1        7.0      10.4  \n",
      "8         29.46     30.09         11.2        7.0      11.5  \n",
      "10        29.62     30.28         13.8       10.0      14.5  \n",
      "12        29.44     30.12          8.5       17.0       9.9  \n",
      "14        29.36     30.02          2.5        8.0       5.4  \n",
      "16        29.28     29.93          3.9        7.0       5.9  \n",
      "18        29.26     29.91          2.0        9.0       3.9  \n"
     ]
    }
   ],
   "source": [
    "print(minunpure.head(10))"
   ]
  },
  {
   "cell_type": "code",
   "execution_count": 141,
   "metadata": {},
   "outputs": [],
   "source": [
    "pikachu = (minunpure + pluslepure)/2"
   ]
  },
  {
   "cell_type": "code",
   "execution_count": 142,
   "metadata": {},
   "outputs": [
    {
     "name": "stdout",
     "output_type": "stream",
     "text": [
      "    Tmax  Tmin  Tavg  Depart  DewPoint  WetBulb  Heat  Cool  PrecipTotal  \\\n",
      "0   83.5  51.0  67.5    14.0      51.0     56.5   0.0   2.5        0.000   \n",
      "2   59.5  42.5  51.5    -3.0      42.0     47.0  13.5   0.0        0.000   \n",
      "4   66.5  47.0  57.0     2.0      40.0     49.0   8.0   0.0        0.000   \n",
      "6   72.0  50.0  61.0     4.0      41.5     50.0   7.0   0.0        0.000   \n",
      "8   66.0  53.5  60.0     5.0      38.5     49.5   5.0   0.0        0.000   \n",
      "10  68.0  50.5  59.5     4.0      30.0     46.0   5.5   0.0        0.000   \n",
      "12  83.5  48.5  66.0    10.0      40.0     53.5   0.0   1.0        0.000   \n",
      "14  81.0  57.0  69.0    12.0      57.5     62.5   0.0   4.0        0.000   \n",
      "16  76.5  62.0  69.5    13.0      59.5     63.0   0.0   4.5        0.075   \n",
      "18  83.5  57.5  70.5    14.0      52.0     60.5   0.0   5.5        0.000   \n",
      "\n",
      "    StnPressure  SeaLevel  ResultSpeed  ResultDir  AvgSpeed  \n",
      "0        29.140    29.820         2.20       26.0      9.40  \n",
      "2        29.410    30.085        13.15        3.0     13.40  \n",
      "4        29.425    30.120        12.30        6.5     12.55  \n",
      "6        29.335    30.045        10.25        7.5     10.60  \n",
      "8        29.430    30.095        11.45        7.0     11.75  \n",
      "10       29.595    30.285        14.10       10.5     14.75  \n",
      "12       29.410    30.120         8.55       17.5     10.20  \n",
      "14       29.325    30.025         2.60        9.5      5.60  \n",
      "16       29.245    29.935         3.90        8.0      6.05  \n",
      "18       29.230    29.915         1.35       13.0      4.00  \n"
     ]
    }
   ],
   "source": [
    "print(pikachu.head(10))"
   ]
  },
  {
   "cell_type": "code",
   "execution_count": 143,
   "metadata": {},
   "outputs": [],
   "source": [
    "pikachu['Date'] = plusle['Date'].copy()"
   ]
  },
  {
   "cell_type": "code",
   "execution_count": 217,
   "metadata": {
    "collapsed": true
   },
   "outputs": [],
   "source": [
    "train = pd.read_csv(\"West Nile/train.csv\")"
   ]
  },
  {
   "cell_type": "code",
   "execution_count": 218,
   "metadata": {},
   "outputs": [
    {
     "name": "stdout",
     "output_type": "stream",
     "text": [
      "         Date                                            Address  \\\n",
      "0  2007-05-29  4100 North Oak Park Avenue, Chicago, IL 60634,...   \n",
      "1  2007-05-29  4100 North Oak Park Avenue, Chicago, IL 60634,...   \n",
      "2  2007-05-29  6200 North Mandell Avenue, Chicago, IL 60646, USA   \n",
      "3  2007-05-29    7900 West Foster Avenue, Chicago, IL 60656, USA   \n",
      "4  2007-05-29    7900 West Foster Avenue, Chicago, IL 60656, USA   \n",
      "5  2007-05-29   1500 West Webster Avenue, Chicago, IL 60614, USA   \n",
      "6  2007-05-29     2500 West Grand Avenue, Chicago, IL 60654, USA   \n",
      "7  2007-05-29        1100 Roosevelt Road, Chicago, IL 60608, USA   \n",
      "8  2007-05-29        1100 Roosevelt Road, Chicago, IL 60608, USA   \n",
      "9  2007-05-29   1100 West Chicago Avenue, Chicago, IL 60642, USA   \n",
      "\n",
      "                  Species  Block           Street  Trap  \\\n",
      "0  CULEX PIPIENS/RESTUANS     41   N OAK PARK AVE  T002   \n",
      "1          CULEX RESTUANS     41   N OAK PARK AVE  T002   \n",
      "2          CULEX RESTUANS     62    N MANDELL AVE  T007   \n",
      "3  CULEX PIPIENS/RESTUANS     79     W FOSTER AVE  T015   \n",
      "4          CULEX RESTUANS     79     W FOSTER AVE  T015   \n",
      "5          CULEX RESTUANS     15    W WEBSTER AVE  T045   \n",
      "6          CULEX RESTUANS     25      W GRAND AVE  T046   \n",
      "7  CULEX PIPIENS/RESTUANS     11      W ROOSEVELT  T048   \n",
      "8          CULEX RESTUANS     11      W ROOSEVELT  T048   \n",
      "9          CULEX RESTUANS     11        W CHICAGO  T049   \n",
      "\n",
      "              AddressNumberAndStreet   Latitude  Longitude  AddressAccuracy  \\\n",
      "0  4100  N OAK PARK AVE, Chicago, IL  41.954690 -87.800991                9   \n",
      "1  4100  N OAK PARK AVE, Chicago, IL  41.954690 -87.800991                9   \n",
      "2   6200  N MANDELL AVE, Chicago, IL  41.994991 -87.769279                9   \n",
      "3    7900  W FOSTER AVE, Chicago, IL  41.974089 -87.824812                8   \n",
      "4    7900  W FOSTER AVE, Chicago, IL  41.974089 -87.824812                8   \n",
      "5   1500  W WEBSTER AVE, Chicago, IL  41.921600 -87.666455                8   \n",
      "6     2500  W GRAND AVE, Chicago, IL  41.891118 -87.654491                8   \n",
      "7     1100  W ROOSEVELT, Chicago, IL  41.867108 -87.654224                8   \n",
      "8     1100  W ROOSEVELT, Chicago, IL  41.867108 -87.654224                8   \n",
      "9       1100  W CHICAGO, Chicago, IL  41.896282 -87.655232                8   \n",
      "\n",
      "   NumMosquitos  WnvPresent  \n",
      "0             1           0  \n",
      "1             1           0  \n",
      "2             1           0  \n",
      "3             1           0  \n",
      "4             4           0  \n",
      "5             2           0  \n",
      "6             1           0  \n",
      "7             1           0  \n",
      "8             2           0  \n",
      "9             1           0  \n"
     ]
    }
   ],
   "source": [
    "print(train.head(10))"
   ]
  },
  {
   "cell_type": "code",
   "execution_count": 219,
   "metadata": {
    "collapsed": true
   },
   "outputs": [],
   "source": [
    "train.drop(\"Address\", axis = 1, inplace = True)\n",
    "train.drop(\"Street\", axis = 1, inplace = True)\n",
    "train.drop(\"Trap\", axis = 1, inplace = True)\n",
    "train.drop(\"AddressNumberAndStreet\", axis = 1, inplace = True)\n",
    "train.drop(\"Block\", axis = 1, inplace = True)"
   ]
  },
  {
   "cell_type": "code",
   "execution_count": 222,
   "metadata": {},
   "outputs": [
    {
     "name": "stdout",
     "output_type": "stream",
     "text": [
      "         Date                 Species   Latitude  Longitude  AddressAccuracy  \\\n",
      "0  2007-05-29  CULEX PIPIENS/RESTUANS  41.954690 -87.800991                9   \n",
      "1  2007-05-29          CULEX RESTUANS  41.954690 -87.800991                9   \n",
      "2  2007-05-29          CULEX RESTUANS  41.994991 -87.769279                9   \n",
      "3  2007-05-29  CULEX PIPIENS/RESTUANS  41.974089 -87.824812                8   \n",
      "4  2007-05-29          CULEX RESTUANS  41.974089 -87.824812                8   \n",
      "5  2007-05-29          CULEX RESTUANS  41.921600 -87.666455                8   \n",
      "6  2007-05-29          CULEX RESTUANS  41.891118 -87.654491                8   \n",
      "7  2007-05-29  CULEX PIPIENS/RESTUANS  41.867108 -87.654224                8   \n",
      "8  2007-05-29          CULEX RESTUANS  41.867108 -87.654224                8   \n",
      "9  2007-05-29          CULEX RESTUANS  41.896282 -87.655232                8   \n",
      "\n",
      "   NumMosquitos  WnvPresent  \n",
      "0             1           0  \n",
      "1             1           0  \n",
      "2             1           0  \n",
      "3             1           0  \n",
      "4             4           0  \n",
      "5             2           0  \n",
      "6             1           0  \n",
      "7             1           0  \n",
      "8             2           0  \n",
      "9             1           0  \n"
     ]
    }
   ],
   "source": [
    "print(train.head(10))"
   ]
  },
  {
   "cell_type": "code",
   "execution_count": 236,
   "metadata": {
    "collapsed": true
   },
   "outputs": [],
   "source": [
    "#train['Species'] = pd.factorize(train['Species'])[0]\n",
    "train.drop(\"Species\", axis = 1, inplace = True)"
   ]
  },
  {
   "cell_type": "code",
   "execution_count": 237,
   "metadata": {},
   "outputs": [
    {
     "name": "stdout",
     "output_type": "stream",
     "text": [
      "          Date   Latitude  Longitude  AddressAccuracy  NumMosquitos  \\\n",
      "0   2007-05-29  41.954690 -87.800991                9             1   \n",
      "1   2007-05-29  41.954690 -87.800991                9             1   \n",
      "2   2007-05-29  41.994991 -87.769279                9             1   \n",
      "3   2007-05-29  41.974089 -87.824812                8             1   \n",
      "4   2007-05-29  41.974089 -87.824812                8             4   \n",
      "5   2007-05-29  41.921600 -87.666455                8             2   \n",
      "6   2007-05-29  41.891118 -87.654491                8             1   \n",
      "7   2007-05-29  41.867108 -87.654224                8             1   \n",
      "8   2007-05-29  41.867108 -87.654224                8             2   \n",
      "9   2007-05-29  41.896282 -87.655232                8             1   \n",
      "10  2007-05-29  41.919343 -87.694259                8             1   \n",
      "11  2007-05-29  41.921965 -87.632085                8             2   \n",
      "12  2007-05-29  41.921965 -87.632085                8             3   \n",
      "13  2007-05-29  41.688324 -87.676709                8             1   \n",
      "14  2007-05-29  41.688324 -87.676709                8             1   \n",
      "15  2007-05-29  41.862292 -87.648860                8             1   \n",
      "16  2007-05-29  41.720848 -87.666014                9             3   \n",
      "17  2007-05-29  41.731922 -87.677512                8             5   \n",
      "18  2007-05-29  41.731922 -87.677512                8             1   \n",
      "19  2007-05-29  41.891126 -87.611560                5             1   \n",
      "\n",
      "    WnvPresent  \n",
      "0            0  \n",
      "1            0  \n",
      "2            0  \n",
      "3            0  \n",
      "4            0  \n",
      "5            0  \n",
      "6            0  \n",
      "7            0  \n",
      "8            0  \n",
      "9            0  \n",
      "10           0  \n",
      "11           0  \n",
      "12           0  \n",
      "13           0  \n",
      "14           0  \n",
      "15           0  \n",
      "16           0  \n",
      "17           0  \n",
      "18           0  \n",
      "19           0  \n"
     ]
    }
   ],
   "source": [
    "print(train.head(20))"
   ]
  },
  {
   "cell_type": "code",
   "execution_count": 238,
   "metadata": {},
   "outputs": [
    {
     "name": "stdout",
     "output_type": "stream",
     "text": [
      "           Latitude     Longitude  AddressAccuracy  NumMosquitos    WnvPresent\n",
      "count  10506.000000  10506.000000     10506.000000  10506.000000  10506.000000\n",
      "mean      41.841139    -87.699908         7.819532     12.853512      0.052446\n",
      "std        0.112742      0.096514         1.452921     16.133816      0.222936\n",
      "min       41.644612    -87.930995         3.000000      1.000000      0.000000\n",
      "25%       41.732984    -87.760070         8.000000      2.000000      0.000000\n",
      "50%       41.846283    -87.694991         8.000000      5.000000      0.000000\n",
      "75%       41.954690    -87.627796         9.000000     17.000000      0.000000\n",
      "max       42.017430    -87.531635         9.000000     50.000000      1.000000\n"
     ]
    }
   ],
   "source": [
    "print(train.describe())"
   ]
  },
  {
   "cell_type": "code",
   "execution_count": 239,
   "metadata": {
    "collapsed": true
   },
   "outputs": [],
   "source": [
    "pikachu_train = train.merge(pikachu, on = 'Date')"
   ]
  },
  {
   "cell_type": "code",
   "execution_count": 240,
   "metadata": {},
   "outputs": [
    {
     "name": "stdout",
     "output_type": "stream",
     "text": [
      "         Date   Latitude  Longitude  AddressAccuracy  NumMosquitos  \\\n",
      "0  2007-05-29  41.954690 -87.800991                9             1   \n",
      "1  2007-05-29  41.954690 -87.800991                9             1   \n",
      "2  2007-05-29  41.994991 -87.769279                9             1   \n",
      "3  2007-05-29  41.974089 -87.824812                8             1   \n",
      "4  2007-05-29  41.974089 -87.824812                8             4   \n",
      "5  2007-05-29  41.921600 -87.666455                8             2   \n",
      "6  2007-05-29  41.891118 -87.654491                8             1   \n",
      "7  2007-05-29  41.867108 -87.654224                8             1   \n",
      "8  2007-05-29  41.867108 -87.654224                8             2   \n",
      "9  2007-05-29  41.896282 -87.655232                8             1   \n",
      "\n",
      "   WnvPresent  Tmax  Tmin  Tavg  Depart  DewPoint  WetBulb  Heat  Cool  \\\n",
      "0           0  88.0  62.5  75.0    10.0      58.5     65.5   0.0  10.5   \n",
      "1           0  88.0  62.5  75.0    10.0      58.5     65.5   0.0  10.5   \n",
      "2           0  88.0  62.5  75.0    10.0      58.5     65.5   0.0  10.5   \n",
      "3           0  88.0  62.5  75.0    10.0      58.5     65.5   0.0  10.5   \n",
      "4           0  88.0  62.5  75.0    10.0      58.5     65.5   0.0  10.5   \n",
      "5           0  88.0  62.5  75.0    10.0      58.5     65.5   0.0  10.5   \n",
      "6           0  88.0  62.5  75.0    10.0      58.5     65.5   0.0  10.5   \n",
      "7           0  88.0  62.5  75.0    10.0      58.5     65.5   0.0  10.5   \n",
      "8           0  88.0  62.5  75.0    10.0      58.5     65.5   0.0  10.5   \n",
      "9           0  88.0  62.5  75.0    10.0      58.5     65.5   0.0  10.5   \n",
      "\n",
      "   PrecipTotal  StnPressure  SeaLevel  ResultSpeed  ResultDir  AvgSpeed  \n",
      "0          0.0       29.415      30.1          5.8       17.0      6.95  \n",
      "1          0.0       29.415      30.1          5.8       17.0      6.95  \n",
      "2          0.0       29.415      30.1          5.8       17.0      6.95  \n",
      "3          0.0       29.415      30.1          5.8       17.0      6.95  \n",
      "4          0.0       29.415      30.1          5.8       17.0      6.95  \n",
      "5          0.0       29.415      30.1          5.8       17.0      6.95  \n",
      "6          0.0       29.415      30.1          5.8       17.0      6.95  \n",
      "7          0.0       29.415      30.1          5.8       17.0      6.95  \n",
      "8          0.0       29.415      30.1          5.8       17.0      6.95  \n",
      "9          0.0       29.415      30.1          5.8       17.0      6.95  \n"
     ]
    }
   ],
   "source": [
    "print(pikachu_train.head(10))"
   ]
  },
  {
   "cell_type": "code",
   "execution_count": 241,
   "metadata": {
    "collapsed": true
   },
   "outputs": [],
   "source": [
    "pikachu_train.drop(\"Date\", axis = 1, inplace = True)"
   ]
  },
  {
   "cell_type": "code",
   "execution_count": 242,
   "metadata": {
    "collapsed": true
   },
   "outputs": [],
   "source": [
    "x = pikachu_train.drop(['WnvPresent', 'DewPoint', 'WetBulb', 'AddressAccuracy', 'Depart', 'StnPressure', 'PrecipTotal', 'SeaLevel'], axis = 1)\n",
    "y = pikachu_train['WnvPresent']"
   ]
  },
  {
   "cell_type": "code",
   "execution_count": 243,
   "metadata": {},
   "outputs": [
    {
     "name": "stdout",
     "output_type": "stream",
     "text": [
      "    Latitude  Longitude  NumMosquitos  Tmax  Tmin  Tavg  Heat  Cool  \\\n",
      "0  41.954690 -87.800991             1  88.0  62.5  75.0   0.0  10.5   \n",
      "1  41.954690 -87.800991             1  88.0  62.5  75.0   0.0  10.5   \n",
      "2  41.994991 -87.769279             1  88.0  62.5  75.0   0.0  10.5   \n",
      "3  41.974089 -87.824812             1  88.0  62.5  75.0   0.0  10.5   \n",
      "4  41.974089 -87.824812             4  88.0  62.5  75.0   0.0  10.5   \n",
      "5  41.921600 -87.666455             2  88.0  62.5  75.0   0.0  10.5   \n",
      "6  41.891118 -87.654491             1  88.0  62.5  75.0   0.0  10.5   \n",
      "7  41.867108 -87.654224             1  88.0  62.5  75.0   0.0  10.5   \n",
      "8  41.867108 -87.654224             2  88.0  62.5  75.0   0.0  10.5   \n",
      "9  41.896282 -87.655232             1  88.0  62.5  75.0   0.0  10.5   \n",
      "\n",
      "   ResultSpeed  ResultDir  AvgSpeed  \n",
      "0          5.8       17.0      6.95  \n",
      "1          5.8       17.0      6.95  \n",
      "2          5.8       17.0      6.95  \n",
      "3          5.8       17.0      6.95  \n",
      "4          5.8       17.0      6.95  \n",
      "5          5.8       17.0      6.95  \n",
      "6          5.8       17.0      6.95  \n",
      "7          5.8       17.0      6.95  \n",
      "8          5.8       17.0      6.95  \n",
      "9          5.8       17.0      6.95  \n"
     ]
    }
   ],
   "source": [
    "print(x.head(10))"
   ]
  },
  {
   "cell_type": "code",
   "execution_count": 244,
   "metadata": {
    "collapsed": true
   },
   "outputs": [],
   "source": [
    "def modelfit(alg, dtrain, predictors, target, useTrainCV=True, cv_folds=5, early_stopping_rounds=50):\n",
    "    \n",
    "    if useTrainCV:\n",
    "        xgb_param = alg.get_xgb_params()\n",
    "        xgtrain = xgb.DMatrix(dtrain[predictors], label=dtrain[target].values)\n",
    "        cvresult = xgb.cv(xgb_param, xgtrain, num_boost_round=alg.get_params()['n_estimators'], nfold=cv_folds, metrics='auc', early_stopping_rounds=early_stopping_rounds)\n",
    "        alg.set_params(n_estimators=cvresult.shape[0])\n",
    "    \n",
    "    #Fit the algorithm on the data\n",
    "    alg.fit(dtrain[predictors], dtrain[target],eval_metric='auc')\n",
    "    \n",
    "    #Predict training set:\n",
    "    dtrain_predictions = alg.predict(dtrain[predictors])\n",
    "    dtrain_predprob = alg.predict_proba(dtrain[predictors])[:,1]\n",
    "        \n",
    "    #Print model report:\n",
    "    print(\"\\nModel Report\")\n",
    "    print(\"Accuracy : %.4g\" % metrics.accuracy_score(dtrain[target].values, dtrain_predictions))\n",
    "    print(\"AUC Score (Train): %f\" % metrics.roc_auc_score(dtrain[target], dtrain_predprob))\n",
    "                    \n",
    "    feat_imp = pd.Series(alg.booster().get_fscore()).sort_values(ascending=False)\n",
    "    feat_imp.plot(kind='bar', title='Feature Importances')\n",
    "    plt.ylabel('Feature Importance Score')"
   ]
  },
  {
   "cell_type": "code",
   "execution_count": 245,
   "metadata": {},
   "outputs": [
    {
     "data": {
      "text/plain": [
       "['Latitude',\n",
       " 'Longitude',\n",
       " 'NumMosquitos',\n",
       " 'Tmax',\n",
       " 'Tmin',\n",
       " 'Tavg',\n",
       " 'Heat',\n",
       " 'Cool',\n",
       " 'ResultSpeed',\n",
       " 'ResultDir',\n",
       " 'AvgSpeed']"
      ]
     },
     "execution_count": 245,
     "metadata": {},
     "output_type": "execute_result"
    }
   ],
   "source": [
    "predictors = [x for x in x.columns if x not in ['WnvPresent']]\n",
    "predictors"
   ]
  },
  {
   "cell_type": "code",
   "execution_count": 246,
   "metadata": {},
   "outputs": [
    {
     "name": "stdout",
     "output_type": "stream",
     "text": [
      "\n",
      "Model Report\n",
      "Accuracy : 0.9556\n",
      "AUC Score (Train): 0.954915\n"
     ]
    },
    {
     "data": {
      "application/javascript": [
       "/* Put everything inside the global mpl namespace */\n",
       "window.mpl = {};\n",
       "\n",
       "\n",
       "mpl.get_websocket_type = function() {\n",
       "    if (typeof(WebSocket) !== 'undefined') {\n",
       "        return WebSocket;\n",
       "    } else if (typeof(MozWebSocket) !== 'undefined') {\n",
       "        return MozWebSocket;\n",
       "    } else {\n",
       "        alert('Your browser does not have WebSocket support.' +\n",
       "              'Please try Chrome, Safari or Firefox ≥ 6. ' +\n",
       "              'Firefox 4 and 5 are also supported but you ' +\n",
       "              'have to enable WebSockets in about:config.');\n",
       "    };\n",
       "}\n",
       "\n",
       "mpl.figure = function(figure_id, websocket, ondownload, parent_element) {\n",
       "    this.id = figure_id;\n",
       "\n",
       "    this.ws = websocket;\n",
       "\n",
       "    this.supports_binary = (this.ws.binaryType != undefined);\n",
       "\n",
       "    if (!this.supports_binary) {\n",
       "        var warnings = document.getElementById(\"mpl-warnings\");\n",
       "        if (warnings) {\n",
       "            warnings.style.display = 'block';\n",
       "            warnings.textContent = (\n",
       "                \"This browser does not support binary websocket messages. \" +\n",
       "                    \"Performance may be slow.\");\n",
       "        }\n",
       "    }\n",
       "\n",
       "    this.imageObj = new Image();\n",
       "\n",
       "    this.context = undefined;\n",
       "    this.message = undefined;\n",
       "    this.canvas = undefined;\n",
       "    this.rubberband_canvas = undefined;\n",
       "    this.rubberband_context = undefined;\n",
       "    this.format_dropdown = undefined;\n",
       "\n",
       "    this.image_mode = 'full';\n",
       "\n",
       "    this.root = $('<div/>');\n",
       "    this._root_extra_style(this.root)\n",
       "    this.root.attr('style', 'display: inline-block');\n",
       "\n",
       "    $(parent_element).append(this.root);\n",
       "\n",
       "    this._init_header(this);\n",
       "    this._init_canvas(this);\n",
       "    this._init_toolbar(this);\n",
       "\n",
       "    var fig = this;\n",
       "\n",
       "    this.waiting = false;\n",
       "\n",
       "    this.ws.onopen =  function () {\n",
       "            fig.send_message(\"supports_binary\", {value: fig.supports_binary});\n",
       "            fig.send_message(\"send_image_mode\", {});\n",
       "            if (mpl.ratio != 1) {\n",
       "                fig.send_message(\"set_dpi_ratio\", {'dpi_ratio': mpl.ratio});\n",
       "            }\n",
       "            fig.send_message(\"refresh\", {});\n",
       "        }\n",
       "\n",
       "    this.imageObj.onload = function() {\n",
       "            if (fig.image_mode == 'full') {\n",
       "                // Full images could contain transparency (where diff images\n",
       "                // almost always do), so we need to clear the canvas so that\n",
       "                // there is no ghosting.\n",
       "                fig.context.clearRect(0, 0, fig.canvas.width, fig.canvas.height);\n",
       "            }\n",
       "            fig.context.drawImage(fig.imageObj, 0, 0);\n",
       "        };\n",
       "\n",
       "    this.imageObj.onunload = function() {\n",
       "        this.ws.close();\n",
       "    }\n",
       "\n",
       "    this.ws.onmessage = this._make_on_message_function(this);\n",
       "\n",
       "    this.ondownload = ondownload;\n",
       "}\n",
       "\n",
       "mpl.figure.prototype._init_header = function() {\n",
       "    var titlebar = $(\n",
       "        '<div class=\"ui-dialog-titlebar ui-widget-header ui-corner-all ' +\n",
       "        'ui-helper-clearfix\"/>');\n",
       "    var titletext = $(\n",
       "        '<div class=\"ui-dialog-title\" style=\"width: 100%; ' +\n",
       "        'text-align: center; padding: 3px;\"/>');\n",
       "    titlebar.append(titletext)\n",
       "    this.root.append(titlebar);\n",
       "    this.header = titletext[0];\n",
       "}\n",
       "\n",
       "\n",
       "\n",
       "mpl.figure.prototype._canvas_extra_style = function(canvas_div) {\n",
       "\n",
       "}\n",
       "\n",
       "\n",
       "mpl.figure.prototype._root_extra_style = function(canvas_div) {\n",
       "\n",
       "}\n",
       "\n",
       "mpl.figure.prototype._init_canvas = function() {\n",
       "    var fig = this;\n",
       "\n",
       "    var canvas_div = $('<div/>');\n",
       "\n",
       "    canvas_div.attr('style', 'position: relative; clear: both; outline: 0');\n",
       "\n",
       "    function canvas_keyboard_event(event) {\n",
       "        return fig.key_event(event, event['data']);\n",
       "    }\n",
       "\n",
       "    canvas_div.keydown('key_press', canvas_keyboard_event);\n",
       "    canvas_div.keyup('key_release', canvas_keyboard_event);\n",
       "    this.canvas_div = canvas_div\n",
       "    this._canvas_extra_style(canvas_div)\n",
       "    this.root.append(canvas_div);\n",
       "\n",
       "    var canvas = $('<canvas/>');\n",
       "    canvas.addClass('mpl-canvas');\n",
       "    canvas.attr('style', \"left: 0; top: 0; z-index: 0; outline: 0\")\n",
       "\n",
       "    this.canvas = canvas[0];\n",
       "    this.context = canvas[0].getContext(\"2d\");\n",
       "\n",
       "    var backingStore = this.context.backingStorePixelRatio ||\n",
       "\tthis.context.webkitBackingStorePixelRatio ||\n",
       "\tthis.context.mozBackingStorePixelRatio ||\n",
       "\tthis.context.msBackingStorePixelRatio ||\n",
       "\tthis.context.oBackingStorePixelRatio ||\n",
       "\tthis.context.backingStorePixelRatio || 1;\n",
       "\n",
       "    mpl.ratio = (window.devicePixelRatio || 1) / backingStore;\n",
       "\n",
       "    var rubberband = $('<canvas/>');\n",
       "    rubberband.attr('style', \"position: absolute; left: 0; top: 0; z-index: 1;\")\n",
       "\n",
       "    var pass_mouse_events = true;\n",
       "\n",
       "    canvas_div.resizable({\n",
       "        start: function(event, ui) {\n",
       "            pass_mouse_events = false;\n",
       "        },\n",
       "        resize: function(event, ui) {\n",
       "            fig.request_resize(ui.size.width, ui.size.height);\n",
       "        },\n",
       "        stop: function(event, ui) {\n",
       "            pass_mouse_events = true;\n",
       "            fig.request_resize(ui.size.width, ui.size.height);\n",
       "        },\n",
       "    });\n",
       "\n",
       "    function mouse_event_fn(event) {\n",
       "        if (pass_mouse_events)\n",
       "            return fig.mouse_event(event, event['data']);\n",
       "    }\n",
       "\n",
       "    rubberband.mousedown('button_press', mouse_event_fn);\n",
       "    rubberband.mouseup('button_release', mouse_event_fn);\n",
       "    // Throttle sequential mouse events to 1 every 20ms.\n",
       "    rubberband.mousemove('motion_notify', mouse_event_fn);\n",
       "\n",
       "    rubberband.mouseenter('figure_enter', mouse_event_fn);\n",
       "    rubberband.mouseleave('figure_leave', mouse_event_fn);\n",
       "\n",
       "    canvas_div.on(\"wheel\", function (event) {\n",
       "        event = event.originalEvent;\n",
       "        event['data'] = 'scroll'\n",
       "        if (event.deltaY < 0) {\n",
       "            event.step = 1;\n",
       "        } else {\n",
       "            event.step = -1;\n",
       "        }\n",
       "        mouse_event_fn(event);\n",
       "    });\n",
       "\n",
       "    canvas_div.append(canvas);\n",
       "    canvas_div.append(rubberband);\n",
       "\n",
       "    this.rubberband = rubberband;\n",
       "    this.rubberband_canvas = rubberband[0];\n",
       "    this.rubberband_context = rubberband[0].getContext(\"2d\");\n",
       "    this.rubberband_context.strokeStyle = \"#000000\";\n",
       "\n",
       "    this._resize_canvas = function(width, height) {\n",
       "        // Keep the size of the canvas, canvas container, and rubber band\n",
       "        // canvas in synch.\n",
       "        canvas_div.css('width', width)\n",
       "        canvas_div.css('height', height)\n",
       "\n",
       "        canvas.attr('width', width * mpl.ratio);\n",
       "        canvas.attr('height', height * mpl.ratio);\n",
       "        canvas.attr('style', 'width: ' + width + 'px; height: ' + height + 'px;');\n",
       "\n",
       "        rubberband.attr('width', width);\n",
       "        rubberband.attr('height', height);\n",
       "    }\n",
       "\n",
       "    // Set the figure to an initial 600x600px, this will subsequently be updated\n",
       "    // upon first draw.\n",
       "    this._resize_canvas(600, 600);\n",
       "\n",
       "    // Disable right mouse context menu.\n",
       "    $(this.rubberband_canvas).bind(\"contextmenu\",function(e){\n",
       "        return false;\n",
       "    });\n",
       "\n",
       "    function set_focus () {\n",
       "        canvas.focus();\n",
       "        canvas_div.focus();\n",
       "    }\n",
       "\n",
       "    window.setTimeout(set_focus, 100);\n",
       "}\n",
       "\n",
       "mpl.figure.prototype._init_toolbar = function() {\n",
       "    var fig = this;\n",
       "\n",
       "    var nav_element = $('<div/>')\n",
       "    nav_element.attr('style', 'width: 100%');\n",
       "    this.root.append(nav_element);\n",
       "\n",
       "    // Define a callback function for later on.\n",
       "    function toolbar_event(event) {\n",
       "        return fig.toolbar_button_onclick(event['data']);\n",
       "    }\n",
       "    function toolbar_mouse_event(event) {\n",
       "        return fig.toolbar_button_onmouseover(event['data']);\n",
       "    }\n",
       "\n",
       "    for(var toolbar_ind in mpl.toolbar_items) {\n",
       "        var name = mpl.toolbar_items[toolbar_ind][0];\n",
       "        var tooltip = mpl.toolbar_items[toolbar_ind][1];\n",
       "        var image = mpl.toolbar_items[toolbar_ind][2];\n",
       "        var method_name = mpl.toolbar_items[toolbar_ind][3];\n",
       "\n",
       "        if (!name) {\n",
       "            // put a spacer in here.\n",
       "            continue;\n",
       "        }\n",
       "        var button = $('<button/>');\n",
       "        button.addClass('ui-button ui-widget ui-state-default ui-corner-all ' +\n",
       "                        'ui-button-icon-only');\n",
       "        button.attr('role', 'button');\n",
       "        button.attr('aria-disabled', 'false');\n",
       "        button.click(method_name, toolbar_event);\n",
       "        button.mouseover(tooltip, toolbar_mouse_event);\n",
       "\n",
       "        var icon_img = $('<span/>');\n",
       "        icon_img.addClass('ui-button-icon-primary ui-icon');\n",
       "        icon_img.addClass(image);\n",
       "        icon_img.addClass('ui-corner-all');\n",
       "\n",
       "        var tooltip_span = $('<span/>');\n",
       "        tooltip_span.addClass('ui-button-text');\n",
       "        tooltip_span.html(tooltip);\n",
       "\n",
       "        button.append(icon_img);\n",
       "        button.append(tooltip_span);\n",
       "\n",
       "        nav_element.append(button);\n",
       "    }\n",
       "\n",
       "    var fmt_picker_span = $('<span/>');\n",
       "\n",
       "    var fmt_picker = $('<select/>');\n",
       "    fmt_picker.addClass('mpl-toolbar-option ui-widget ui-widget-content');\n",
       "    fmt_picker_span.append(fmt_picker);\n",
       "    nav_element.append(fmt_picker_span);\n",
       "    this.format_dropdown = fmt_picker[0];\n",
       "\n",
       "    for (var ind in mpl.extensions) {\n",
       "        var fmt = mpl.extensions[ind];\n",
       "        var option = $(\n",
       "            '<option/>', {selected: fmt === mpl.default_extension}).html(fmt);\n",
       "        fmt_picker.append(option)\n",
       "    }\n",
       "\n",
       "    // Add hover states to the ui-buttons\n",
       "    $( \".ui-button\" ).hover(\n",
       "        function() { $(this).addClass(\"ui-state-hover\");},\n",
       "        function() { $(this).removeClass(\"ui-state-hover\");}\n",
       "    );\n",
       "\n",
       "    var status_bar = $('<span class=\"mpl-message\"/>');\n",
       "    nav_element.append(status_bar);\n",
       "    this.message = status_bar[0];\n",
       "}\n",
       "\n",
       "mpl.figure.prototype.request_resize = function(x_pixels, y_pixels) {\n",
       "    // Request matplotlib to resize the figure. Matplotlib will then trigger a resize in the client,\n",
       "    // which will in turn request a refresh of the image.\n",
       "    this.send_message('resize', {'width': x_pixels, 'height': y_pixels});\n",
       "}\n",
       "\n",
       "mpl.figure.prototype.send_message = function(type, properties) {\n",
       "    properties['type'] = type;\n",
       "    properties['figure_id'] = this.id;\n",
       "    this.ws.send(JSON.stringify(properties));\n",
       "}\n",
       "\n",
       "mpl.figure.prototype.send_draw_message = function() {\n",
       "    if (!this.waiting) {\n",
       "        this.waiting = true;\n",
       "        this.ws.send(JSON.stringify({type: \"draw\", figure_id: this.id}));\n",
       "    }\n",
       "}\n",
       "\n",
       "\n",
       "mpl.figure.prototype.handle_save = function(fig, msg) {\n",
       "    var format_dropdown = fig.format_dropdown;\n",
       "    var format = format_dropdown.options[format_dropdown.selectedIndex].value;\n",
       "    fig.ondownload(fig, format);\n",
       "}\n",
       "\n",
       "\n",
       "mpl.figure.prototype.handle_resize = function(fig, msg) {\n",
       "    var size = msg['size'];\n",
       "    if (size[0] != fig.canvas.width || size[1] != fig.canvas.height) {\n",
       "        fig._resize_canvas(size[0], size[1]);\n",
       "        fig.send_message(\"refresh\", {});\n",
       "    };\n",
       "}\n",
       "\n",
       "mpl.figure.prototype.handle_rubberband = function(fig, msg) {\n",
       "    var x0 = msg['x0'] / mpl.ratio;\n",
       "    var y0 = (fig.canvas.height - msg['y0']) / mpl.ratio;\n",
       "    var x1 = msg['x1'] / mpl.ratio;\n",
       "    var y1 = (fig.canvas.height - msg['y1']) / mpl.ratio;\n",
       "    x0 = Math.floor(x0) + 0.5;\n",
       "    y0 = Math.floor(y0) + 0.5;\n",
       "    x1 = Math.floor(x1) + 0.5;\n",
       "    y1 = Math.floor(y1) + 0.5;\n",
       "    var min_x = Math.min(x0, x1);\n",
       "    var min_y = Math.min(y0, y1);\n",
       "    var width = Math.abs(x1 - x0);\n",
       "    var height = Math.abs(y1 - y0);\n",
       "\n",
       "    fig.rubberband_context.clearRect(\n",
       "        0, 0, fig.canvas.width, fig.canvas.height);\n",
       "\n",
       "    fig.rubberband_context.strokeRect(min_x, min_y, width, height);\n",
       "}\n",
       "\n",
       "mpl.figure.prototype.handle_figure_label = function(fig, msg) {\n",
       "    // Updates the figure title.\n",
       "    fig.header.textContent = msg['label'];\n",
       "}\n",
       "\n",
       "mpl.figure.prototype.handle_cursor = function(fig, msg) {\n",
       "    var cursor = msg['cursor'];\n",
       "    switch(cursor)\n",
       "    {\n",
       "    case 0:\n",
       "        cursor = 'pointer';\n",
       "        break;\n",
       "    case 1:\n",
       "        cursor = 'default';\n",
       "        break;\n",
       "    case 2:\n",
       "        cursor = 'crosshair';\n",
       "        break;\n",
       "    case 3:\n",
       "        cursor = 'move';\n",
       "        break;\n",
       "    }\n",
       "    fig.rubberband_canvas.style.cursor = cursor;\n",
       "}\n",
       "\n",
       "mpl.figure.prototype.handle_message = function(fig, msg) {\n",
       "    fig.message.textContent = msg['message'];\n",
       "}\n",
       "\n",
       "mpl.figure.prototype.handle_draw = function(fig, msg) {\n",
       "    // Request the server to send over a new figure.\n",
       "    fig.send_draw_message();\n",
       "}\n",
       "\n",
       "mpl.figure.prototype.handle_image_mode = function(fig, msg) {\n",
       "    fig.image_mode = msg['mode'];\n",
       "}\n",
       "\n",
       "mpl.figure.prototype.updated_canvas_event = function() {\n",
       "    // Called whenever the canvas gets updated.\n",
       "    this.send_message(\"ack\", {});\n",
       "}\n",
       "\n",
       "// A function to construct a web socket function for onmessage handling.\n",
       "// Called in the figure constructor.\n",
       "mpl.figure.prototype._make_on_message_function = function(fig) {\n",
       "    return function socket_on_message(evt) {\n",
       "        if (evt.data instanceof Blob) {\n",
       "            /* FIXME: We get \"Resource interpreted as Image but\n",
       "             * transferred with MIME type text/plain:\" errors on\n",
       "             * Chrome.  But how to set the MIME type?  It doesn't seem\n",
       "             * to be part of the websocket stream */\n",
       "            evt.data.type = \"image/png\";\n",
       "\n",
       "            /* Free the memory for the previous frames */\n",
       "            if (fig.imageObj.src) {\n",
       "                (window.URL || window.webkitURL).revokeObjectURL(\n",
       "                    fig.imageObj.src);\n",
       "            }\n",
       "\n",
       "            fig.imageObj.src = (window.URL || window.webkitURL).createObjectURL(\n",
       "                evt.data);\n",
       "            fig.updated_canvas_event();\n",
       "            fig.waiting = false;\n",
       "            return;\n",
       "        }\n",
       "        else if (typeof evt.data === 'string' && evt.data.slice(0, 21) == \"data:image/png;base64\") {\n",
       "            fig.imageObj.src = evt.data;\n",
       "            fig.updated_canvas_event();\n",
       "            fig.waiting = false;\n",
       "            return;\n",
       "        }\n",
       "\n",
       "        var msg = JSON.parse(evt.data);\n",
       "        var msg_type = msg['type'];\n",
       "\n",
       "        // Call the  \"handle_{type}\" callback, which takes\n",
       "        // the figure and JSON message as its only arguments.\n",
       "        try {\n",
       "            var callback = fig[\"handle_\" + msg_type];\n",
       "        } catch (e) {\n",
       "            console.log(\"No handler for the '\" + msg_type + \"' message type: \", msg);\n",
       "            return;\n",
       "        }\n",
       "\n",
       "        if (callback) {\n",
       "            try {\n",
       "                // console.log(\"Handling '\" + msg_type + \"' message: \", msg);\n",
       "                callback(fig, msg);\n",
       "            } catch (e) {\n",
       "                console.log(\"Exception inside the 'handler_\" + msg_type + \"' callback:\", e, e.stack, msg);\n",
       "            }\n",
       "        }\n",
       "    };\n",
       "}\n",
       "\n",
       "// from http://stackoverflow.com/questions/1114465/getting-mouse-location-in-canvas\n",
       "mpl.findpos = function(e) {\n",
       "    //this section is from http://www.quirksmode.org/js/events_properties.html\n",
       "    var targ;\n",
       "    if (!e)\n",
       "        e = window.event;\n",
       "    if (e.target)\n",
       "        targ = e.target;\n",
       "    else if (e.srcElement)\n",
       "        targ = e.srcElement;\n",
       "    if (targ.nodeType == 3) // defeat Safari bug\n",
       "        targ = targ.parentNode;\n",
       "\n",
       "    // jQuery normalizes the pageX and pageY\n",
       "    // pageX,Y are the mouse positions relative to the document\n",
       "    // offset() returns the position of the element relative to the document\n",
       "    var x = e.pageX - $(targ).offset().left;\n",
       "    var y = e.pageY - $(targ).offset().top;\n",
       "\n",
       "    return {\"x\": x, \"y\": y};\n",
       "};\n",
       "\n",
       "/*\n",
       " * return a copy of an object with only non-object keys\n",
       " * we need this to avoid circular references\n",
       " * http://stackoverflow.com/a/24161582/3208463\n",
       " */\n",
       "function simpleKeys (original) {\n",
       "  return Object.keys(original).reduce(function (obj, key) {\n",
       "    if (typeof original[key] !== 'object')\n",
       "        obj[key] = original[key]\n",
       "    return obj;\n",
       "  }, {});\n",
       "}\n",
       "\n",
       "mpl.figure.prototype.mouse_event = function(event, name) {\n",
       "    var canvas_pos = mpl.findpos(event)\n",
       "\n",
       "    if (name === 'button_press')\n",
       "    {\n",
       "        this.canvas.focus();\n",
       "        this.canvas_div.focus();\n",
       "    }\n",
       "\n",
       "    var x = canvas_pos.x * mpl.ratio;\n",
       "    var y = canvas_pos.y * mpl.ratio;\n",
       "\n",
       "    this.send_message(name, {x: x, y: y, button: event.button,\n",
       "                             step: event.step,\n",
       "                             guiEvent: simpleKeys(event)});\n",
       "\n",
       "    /* This prevents the web browser from automatically changing to\n",
       "     * the text insertion cursor when the button is pressed.  We want\n",
       "     * to control all of the cursor setting manually through the\n",
       "     * 'cursor' event from matplotlib */\n",
       "    event.preventDefault();\n",
       "    return false;\n",
       "}\n",
       "\n",
       "mpl.figure.prototype._key_event_extra = function(event, name) {\n",
       "    // Handle any extra behaviour associated with a key event\n",
       "}\n",
       "\n",
       "mpl.figure.prototype.key_event = function(event, name) {\n",
       "\n",
       "    // Prevent repeat events\n",
       "    if (name == 'key_press')\n",
       "    {\n",
       "        if (event.which === this._key)\n",
       "            return;\n",
       "        else\n",
       "            this._key = event.which;\n",
       "    }\n",
       "    if (name == 'key_release')\n",
       "        this._key = null;\n",
       "\n",
       "    var value = '';\n",
       "    if (event.ctrlKey && event.which != 17)\n",
       "        value += \"ctrl+\";\n",
       "    if (event.altKey && event.which != 18)\n",
       "        value += \"alt+\";\n",
       "    if (event.shiftKey && event.which != 16)\n",
       "        value += \"shift+\";\n",
       "\n",
       "    value += 'k';\n",
       "    value += event.which.toString();\n",
       "\n",
       "    this._key_event_extra(event, name);\n",
       "\n",
       "    this.send_message(name, {key: value,\n",
       "                             guiEvent: simpleKeys(event)});\n",
       "    return false;\n",
       "}\n",
       "\n",
       "mpl.figure.prototype.toolbar_button_onclick = function(name) {\n",
       "    if (name == 'download') {\n",
       "        this.handle_save(this, null);\n",
       "    } else {\n",
       "        this.send_message(\"toolbar_button\", {name: name});\n",
       "    }\n",
       "};\n",
       "\n",
       "mpl.figure.prototype.toolbar_button_onmouseover = function(tooltip) {\n",
       "    this.message.textContent = tooltip;\n",
       "};\n",
       "mpl.toolbar_items = [[\"Home\", \"Reset original view\", \"fa fa-home icon-home\", \"home\"], [\"Back\", \"Back to  previous view\", \"fa fa-arrow-left icon-arrow-left\", \"back\"], [\"Forward\", \"Forward to next view\", \"fa fa-arrow-right icon-arrow-right\", \"forward\"], [\"\", \"\", \"\", \"\"], [\"Pan\", \"Pan axes with left mouse, zoom with right\", \"fa fa-arrows icon-move\", \"pan\"], [\"Zoom\", \"Zoom to rectangle\", \"fa fa-square-o icon-check-empty\", \"zoom\"], [\"\", \"\", \"\", \"\"], [\"Download\", \"Download plot\", \"fa fa-floppy-o icon-save\", \"download\"]];\n",
       "\n",
       "mpl.extensions = [\"eps\", \"pdf\", \"png\", \"ps\", \"raw\", \"svg\"];\n",
       "\n",
       "mpl.default_extension = \"png\";var comm_websocket_adapter = function(comm) {\n",
       "    // Create a \"websocket\"-like object which calls the given IPython comm\n",
       "    // object with the appropriate methods. Currently this is a non binary\n",
       "    // socket, so there is still some room for performance tuning.\n",
       "    var ws = {};\n",
       "\n",
       "    ws.close = function() {\n",
       "        comm.close()\n",
       "    };\n",
       "    ws.send = function(m) {\n",
       "        //console.log('sending', m);\n",
       "        comm.send(m);\n",
       "    };\n",
       "    // Register the callback with on_msg.\n",
       "    comm.on_msg(function(msg) {\n",
       "        //console.log('receiving', msg['content']['data'], msg);\n",
       "        // Pass the mpl event to the overriden (by mpl) onmessage function.\n",
       "        ws.onmessage(msg['content']['data'])\n",
       "    });\n",
       "    return ws;\n",
       "}\n",
       "\n",
       "mpl.mpl_figure_comm = function(comm, msg) {\n",
       "    // This is the function which gets called when the mpl process\n",
       "    // starts-up an IPython Comm through the \"matplotlib\" channel.\n",
       "\n",
       "    var id = msg.content.data.id;\n",
       "    // Get hold of the div created by the display call when the Comm\n",
       "    // socket was opened in Python.\n",
       "    var element = $(\"#\" + id);\n",
       "    var ws_proxy = comm_websocket_adapter(comm)\n",
       "\n",
       "    function ondownload(figure, format) {\n",
       "        window.open(figure.imageObj.src);\n",
       "    }\n",
       "\n",
       "    var fig = new mpl.figure(id, ws_proxy,\n",
       "                           ondownload,\n",
       "                           element.get(0));\n",
       "\n",
       "    // Call onopen now - mpl needs it, as it is assuming we've passed it a real\n",
       "    // web socket which is closed, not our websocket->open comm proxy.\n",
       "    ws_proxy.onopen();\n",
       "\n",
       "    fig.parent_element = element.get(0);\n",
       "    fig.cell_info = mpl.find_output_cell(\"<div id='\" + id + \"'></div>\");\n",
       "    if (!fig.cell_info) {\n",
       "        console.error(\"Failed to find cell for figure\", id, fig);\n",
       "        return;\n",
       "    }\n",
       "\n",
       "    var output_index = fig.cell_info[2]\n",
       "    var cell = fig.cell_info[0];\n",
       "\n",
       "};\n",
       "\n",
       "mpl.figure.prototype.handle_close = function(fig, msg) {\n",
       "    var width = fig.canvas.width/mpl.ratio\n",
       "    fig.root.unbind('remove')\n",
       "\n",
       "    // Update the output cell to use the data from the current canvas.\n",
       "    fig.push_to_output();\n",
       "    var dataURL = fig.canvas.toDataURL();\n",
       "    // Re-enable the keyboard manager in IPython - without this line, in FF,\n",
       "    // the notebook keyboard shortcuts fail.\n",
       "    IPython.keyboard_manager.enable()\n",
       "    $(fig.parent_element).html('<img src=\"' + dataURL + '\" width=\"' + width + '\">');\n",
       "    fig.close_ws(fig, msg);\n",
       "}\n",
       "\n",
       "mpl.figure.prototype.close_ws = function(fig, msg){\n",
       "    fig.send_message('closing', msg);\n",
       "    // fig.ws.close()\n",
       "}\n",
       "\n",
       "mpl.figure.prototype.push_to_output = function(remove_interactive) {\n",
       "    // Turn the data on the canvas into data in the output cell.\n",
       "    var width = this.canvas.width/mpl.ratio\n",
       "    var dataURL = this.canvas.toDataURL();\n",
       "    this.cell_info[1]['text/html'] = '<img src=\"' + dataURL + '\" width=\"' + width + '\">';\n",
       "}\n",
       "\n",
       "mpl.figure.prototype.updated_canvas_event = function() {\n",
       "    // Tell IPython that the notebook contents must change.\n",
       "    IPython.notebook.set_dirty(true);\n",
       "    this.send_message(\"ack\", {});\n",
       "    var fig = this;\n",
       "    // Wait a second, then push the new image to the DOM so\n",
       "    // that it is saved nicely (might be nice to debounce this).\n",
       "    setTimeout(function () { fig.push_to_output() }, 1000);\n",
       "}\n",
       "\n",
       "mpl.figure.prototype._init_toolbar = function() {\n",
       "    var fig = this;\n",
       "\n",
       "    var nav_element = $('<div/>')\n",
       "    nav_element.attr('style', 'width: 100%');\n",
       "    this.root.append(nav_element);\n",
       "\n",
       "    // Define a callback function for later on.\n",
       "    function toolbar_event(event) {\n",
       "        return fig.toolbar_button_onclick(event['data']);\n",
       "    }\n",
       "    function toolbar_mouse_event(event) {\n",
       "        return fig.toolbar_button_onmouseover(event['data']);\n",
       "    }\n",
       "\n",
       "    for(var toolbar_ind in mpl.toolbar_items){\n",
       "        var name = mpl.toolbar_items[toolbar_ind][0];\n",
       "        var tooltip = mpl.toolbar_items[toolbar_ind][1];\n",
       "        var image = mpl.toolbar_items[toolbar_ind][2];\n",
       "        var method_name = mpl.toolbar_items[toolbar_ind][3];\n",
       "\n",
       "        if (!name) { continue; };\n",
       "\n",
       "        var button = $('<button class=\"btn btn-default\" href=\"#\" title=\"' + name + '\"><i class=\"fa ' + image + ' fa-lg\"></i></button>');\n",
       "        button.click(method_name, toolbar_event);\n",
       "        button.mouseover(tooltip, toolbar_mouse_event);\n",
       "        nav_element.append(button);\n",
       "    }\n",
       "\n",
       "    // Add the status bar.\n",
       "    var status_bar = $('<span class=\"mpl-message\" style=\"text-align:right; float: right;\"/>');\n",
       "    nav_element.append(status_bar);\n",
       "    this.message = status_bar[0];\n",
       "\n",
       "    // Add the close button to the window.\n",
       "    var buttongrp = $('<div class=\"btn-group inline pull-right\"></div>');\n",
       "    var button = $('<button class=\"btn btn-mini btn-primary\" href=\"#\" title=\"Stop Interaction\"><i class=\"fa fa-power-off icon-remove icon-large\"></i></button>');\n",
       "    button.click(function (evt) { fig.handle_close(fig, {}); } );\n",
       "    button.mouseover('Stop Interaction', toolbar_mouse_event);\n",
       "    buttongrp.append(button);\n",
       "    var titlebar = this.root.find($('.ui-dialog-titlebar'));\n",
       "    titlebar.prepend(buttongrp);\n",
       "}\n",
       "\n",
       "mpl.figure.prototype._root_extra_style = function(el){\n",
       "    var fig = this\n",
       "    el.on(\"remove\", function(){\n",
       "\tfig.close_ws(fig, {});\n",
       "    });\n",
       "}\n",
       "\n",
       "mpl.figure.prototype._canvas_extra_style = function(el){\n",
       "    // this is important to make the div 'focusable\n",
       "    el.attr('tabindex', 0)\n",
       "    // reach out to IPython and tell the keyboard manager to turn it's self\n",
       "    // off when our div gets focus\n",
       "\n",
       "    // location in version 3\n",
       "    if (IPython.notebook.keyboard_manager) {\n",
       "        IPython.notebook.keyboard_manager.register_events(el);\n",
       "    }\n",
       "    else {\n",
       "        // location in version 2\n",
       "        IPython.keyboard_manager.register_events(el);\n",
       "    }\n",
       "\n",
       "}\n",
       "\n",
       "mpl.figure.prototype._key_event_extra = function(event, name) {\n",
       "    var manager = IPython.notebook.keyboard_manager;\n",
       "    if (!manager)\n",
       "        manager = IPython.keyboard_manager;\n",
       "\n",
       "    // Check for shift+enter\n",
       "    if (event.shiftKey && event.which == 13) {\n",
       "        this.canvas_div.blur();\n",
       "        // select the cell after this one\n",
       "        var index = IPython.notebook.find_cell_index(this.cell_info[0]);\n",
       "        IPython.notebook.select(index + 1);\n",
       "    }\n",
       "}\n",
       "\n",
       "mpl.figure.prototype.handle_save = function(fig, msg) {\n",
       "    fig.ondownload(fig, null);\n",
       "}\n",
       "\n",
       "\n",
       "mpl.find_output_cell = function(html_output) {\n",
       "    // Return the cell and output element which can be found *uniquely* in the notebook.\n",
       "    // Note - this is a bit hacky, but it is done because the \"notebook_saving.Notebook\"\n",
       "    // IPython event is triggered only after the cells have been serialised, which for\n",
       "    // our purposes (turning an active figure into a static one), is too late.\n",
       "    var cells = IPython.notebook.get_cells();\n",
       "    var ncells = cells.length;\n",
       "    for (var i=0; i<ncells; i++) {\n",
       "        var cell = cells[i];\n",
       "        if (cell.cell_type === 'code'){\n",
       "            for (var j=0; j<cell.output_area.outputs.length; j++) {\n",
       "                var data = cell.output_area.outputs[j];\n",
       "                if (data.data) {\n",
       "                    // IPython >= 3 moved mimebundle to data attribute of output\n",
       "                    data = data.data;\n",
       "                }\n",
       "                if (data['text/html'] == html_output) {\n",
       "                    return [cell, data, j];\n",
       "                }\n",
       "            }\n",
       "        }\n",
       "    }\n",
       "}\n",
       "\n",
       "// Register the function which deals with the matplotlib target/channel.\n",
       "// The kernel may be null if the page has been refreshed.\n",
       "if (IPython.notebook.kernel != null) {\n",
       "    IPython.notebook.kernel.comm_manager.register_target('matplotlib', mpl.mpl_figure_comm);\n",
       "}\n"
      ],
      "text/plain": [
       "<IPython.core.display.Javascript object>"
      ]
     },
     "metadata": {},
     "output_type": "display_data"
    },
    {
     "data": {
      "text/html": [
       "<img src=\"data:image/png;base64,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\" width=\"639.999990463257\">"
      ],
      "text/plain": [
       "<IPython.core.display.HTML object>"
      ]
     },
     "metadata": {},
     "output_type": "display_data"
    }
   ],
   "source": [
    "xgb1 = XGBClassifier(\n",
    " learning_rate = 0.1,\n",
    " n_estimators=1000,\n",
    " max_depth=5,\n",
    " min_child_weight=1,\n",
    " gamma=0,\n",
    " subsample=0.8,\n",
    " colsample_bytree=0.8,\n",
    " objective= 'binary:logistic',\n",
    " nthread=1,\n",
    " scale_pos_weight=1,\n",
    " seed=27)\n",
    "clf = modelfit(xgb1, pikachu_train, predictors, 'WnvPresent')\n",
    "clf"
   ]
  },
  {
   "cell_type": "code",
   "execution_count": 83,
   "metadata": {},
   "outputs": [
    {
     "data": {
      "text/plain": [
       "([mean: 0.50799, std: 0.17904, params: {'learning_rate': 0.1},\n",
       "  mean: 0.48843, std: 0.18056, params: {'learning_rate': 0.2},\n",
       "  mean: 0.50457, std: 0.17866, params: {'learning_rate': 0.3},\n",
       "  mean: 0.49217, std: 0.17534, params: {'learning_rate': 0.4},\n",
       "  mean: 0.48821, std: 0.18300, params: {'learning_rate': 0.5},\n",
       "  mean: 0.48729, std: 0.17146, params: {'learning_rate': 0.6},\n",
       "  mean: 0.50452, std: 0.16240, params: {'learning_rate': 0.7},\n",
       "  mean: 0.49554, std: 0.17260, params: {'learning_rate': 0.8},\n",
       "  mean: 0.46944, std: 0.14838, params: {'learning_rate': 0.9},\n",
       "  mean: 0.47690, std: 0.17986, params: {'learning_rate': 1.0}],\n",
       " {'learning_rate': 0.1},\n",
       " 0.507985817423286)"
      ]
     },
     "execution_count": 83,
     "metadata": {},
     "output_type": "execute_result"
    }
   ],
   "source": [
    "param_test1 = {\n",
    "'learning_rate' : [0.1, 0.2, 0.3, 0.4, 0.5, 0.6, 0.7, 0.8, 0.9, 1.0]\n",
    "}\n",
    "\n",
    "gsearch1 = GridSearchCV(estimator = XGBClassifier( learning_rate =0.2, n_estimators=140,\n",
    "max_depth=5,\n",
    "min_child_weight=1, gamma=0, subsample=0.8, colsample_bytree=0.8,\n",
    "objective= 'binary:logistic', nthread=4, scale_pos_weight=1, seed=27),\n",
    "param_grid = param_test1, scoring='roc_auc',n_jobs=4,iid=False, cv=5)\n",
    "gsearch1.fit(pikachu_train[predictors],pikachu_train['WnvPresent'])\n",
    "gsearch1.grid_scores_, gsearch1.best_params_, gsearch1.best_score_\n"
   ]
  },
  {
   "cell_type": "code",
   "execution_count": 196,
   "metadata": {},
   "outputs": [
    {
     "name": "stdout",
     "output_type": "stream",
     "text": [
      "C-stat: 0.808808877699\n"
     ]
    }
   ],
   "source": [
    "model = RandomForestRegressor(100, oob_score = True, n_jobs = 1 , random_state = 200)\n",
    "model.fit(x, y)\n",
    "print (\"C-stat: \" + str(roc_auc_score(y, model.oob_prediction_)))"
   ]
  },
  {
   "cell_type": "code",
   "execution_count": null,
   "metadata": {},
   "outputs": [],
   "source": [
    "clf = tree.DecisionTreeClassifier()\n",
    "clf = clf.fit(x, y)\n",
    "print(\"Accuracy Store \" + str(clf.score(x,y)))"
   ]
  },
  {
   "cell_type": "code",
   "execution_count": null,
   "metadata": {},
   "outputs": [],
   "source": [
    "cv = cross_val_score(clf, x, y, cv = 10)\n",
    "print(cv)"
   ]
  },
  {
   "cell_type": "code",
   "execution_count": null,
   "metadata": {},
   "outputs": [],
   "source": [
    "cva = np.array(cv)\n",
    "mean = np.mean(cva)\n",
    "std = np.std(cva)\n",
    "print(\"Mean: \" + str(mean))\n",
    "print(\"Standard Deviation: \" + str(std))"
   ]
  },
  {
   "cell_type": "code",
   "execution_count": null,
   "metadata": {},
   "outputs": [],
   "source": [
    "objects = (1, 2, 3, 4, 5, 6, 7, 8, 9, 10)\n",
    "y_pos = np.arange(len(objects))\n",
    "performance = cv\n",
    " \n",
    "plt.bar(y_pos, performance, align='center', alpha=0.5)\n",
    "plt.xticks(y_pos, objects)\n",
    "plt.ylabel('Accuracy')\n",
    "plt.xlabel('Fold')\n",
    "plt.title('Decision Tree Cross Validation, 10 Fold')\n",
    " \n",
    "plt.show()"
   ]
  },
  {
   "cell_type": "code",
   "execution_count": 187,
   "metadata": {},
   "outputs": [],
   "source": [
    "#z = x.copy()\n",
    "#z['WnvPresent'] = y.copy()\n",
    "#raichu_train = z.convert_objects(convert_numeric=True)"
   ]
  },
  {
   "cell_type": "code",
   "execution_count": 188,
   "metadata": {},
   "outputs": [],
   "source": [
    "#test = raichu_train.tail(1000)\n",
    "#test.head(5)"
   ]
  },
  {
   "cell_type": "code",
   "execution_count": 189,
   "metadata": {},
   "outputs": [],
   "source": [
    "#res = test['WnvPresent']\n",
    "#test.drop(\"WnvPresent\", axis=1, inplace=True)"
   ]
  },
  {
   "cell_type": "code",
   "execution_count": 190,
   "metadata": {},
   "outputs": [],
   "source": [
    "#test.head(10)"
   ]
  },
  {
   "cell_type": "code",
   "execution_count": 191,
   "metadata": {
    "scrolled": true
   },
   "outputs": [],
   "source": [
    "#ypred = clf.predict(test)\n",
    "#ypred"
   ]
  },
  {
   "cell_type": "code",
   "execution_count": 192,
   "metadata": {
    "collapsed": true
   },
   "outputs": [],
   "source": [
    "#res = res.as_matrix()"
   ]
  },
  {
   "cell_type": "code",
   "execution_count": 193,
   "metadata": {},
   "outputs": [],
   "source": [
    "#total = 0\n",
    "#co = 0\n",
    "#for i in ypred:\n",
    "   # total += math.pow((ypred[co] - res[co]), 2.0)\n",
    "   # co += 1\n",
    "#1 - (total / 1000.0)"
   ]
  },
  {
   "cell_type": "code",
   "execution_count": null,
   "metadata": {
    "collapsed": true
   },
   "outputs": [],
   "source": []
  }
 ],
 "metadata": {
  "kernelspec": {
   "display_name": "Python 3",
   "language": "python",
   "name": "python3"
  },
  "language_info": {
   "codemirror_mode": {
    "name": "ipython",
    "version": 3
   },
   "file_extension": ".py",
   "mimetype": "text/x-python",
   "name": "python",
   "nbconvert_exporter": "python",
   "pygments_lexer": "ipython3",
   "version": "3.6.1"
  }
 },
 "nbformat": 4,
 "nbformat_minor": 2
}
